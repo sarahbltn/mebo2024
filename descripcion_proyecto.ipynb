{
 "cells": [
  {
   "cell_type": "markdown",
   "metadata": {},
   "source": [
    "# Proyecto Final - Métodos Estadísticos Bayesianos\n",
    "\n",
    "![BLR](https://upload.wikimedia.org/wikipedia/commons/e/ed/Bayes_icon.svg)"
   ]
  },
  {
   "cell_type": "markdown",
   "metadata": {},
   "source": [
    "## 0. Estructura sugerida del trabajo\n",
    "\n",
    "- Título\n",
    "- Objetivos:\n",
    "  - Objetivo general\n",
    "  - Objetivos específicos\n",
    "- Tratar los puntos a continuación\n",
    "- Conclusiones"
   ]
  },
  {
   "cell_type": "markdown",
   "metadata": {},
   "source": [
    "## 1. Descripción del problema (20 puntos)\n",
    "\n",
    "La primera parte del proyecto será describir el problema que están intentando resolver, y el proceso de generación de los datos (cómo se obtienen los datos).\n",
    "\n",
    "No se debería incluir solo texto, sino también diagramas, imágenes y cualquier tipo de apoyo visual para soportar la descripción."
   ]
  },
  {
   "cell_type": "markdown",
   "metadata": {},
   "source": [
    "## 2. Análisis exploratorio de datos (15 puntos)\n",
    "\n",
    "Con el problema claro, realizar un análisis exploratorio de datos orientado hacia la solución del problema."
   ]
  },
  {
   "cell_type": "markdown",
   "metadata": {},
   "source": [
    "## 3. Estructura de modelo para resolver el problema (10 puntos)\n",
    "\n",
    "Una vez descrito el problema, debes proponer un modelo de la situación. La estructura de este modelo puede ser:\n",
    "\n",
    "- Regresor lineal Bayesiano (problema de regresión).\n",
    "- Regresor logístico Bayesiano (problema de clasificación)."
   ]
  },
  {
   "cell_type": "markdown",
   "metadata": {},
   "source": [
    "## 4. Definición del modelo (15 puntos)\n",
    "\n",
    "A partir del análisis exploratorio de datos y con la estructura de modelo elegida, definir claramente:\n",
    "\n",
    "1. Las entradas y salidas de su modelo.\n",
    "2. Las limitaciones de este modelo (qué se modela y qué no se modela).\n",
    "3. Suposiciones explícitas e implicitas en su modelo.\n",
    "4. Definición del modelo en lenguaje probabilístico."
   ]
  },
  {
   "cell_type": "markdown",
   "metadata": {},
   "source": [
    "## 5. Implementación del modelo en PyMC (20 puntos)"
   ]
  },
  {
   "cell_type": "markdown",
   "metadata": {},
   "source": [
    "## 6. Interpretación y Evaluación del modelo (20 puntos)\n",
    "\n",
    "Debes interpretar los parámetros del modelo, e incluir gráficos para evaluar como los predictores afectan la variable de respuesta.\n",
    "\n",
    "Debes de evaluar el modelo respecto a un conjunto de datos de validación y reportar qué tan bueno es tu modelo para la tarea que fue diseñado."
   ]
  },
  {
   "cell_type": "markdown",
   "metadata": {},
   "source": [
    "# Para la presentación del proyecto lo pueden hacer utilizando cuadernos de jupyter, presentación de power point, o cualquier formato que ustedes deseen.\n",
    "\n",
    "# La evaluación del proyecto se llevará a cabo directamente de la presentación que ustedes hagan.\n",
    "\n",
    "# La duración de la presentación será de 10 min (máximo), para dejar un espacio de 3 min para preguntas."
   ]
  },
  {
   "cell_type": "markdown",
   "metadata": {},
   "source": [
    "<script>\n",
    "  $(document).ready(function(){\n",
    "    $('div.prompt').hide();\n",
    "    $('div.back-to-top').hide();\n",
    "    $('nav#menubar').hide();\n",
    "    $('.breadcrumb').hide();\n",
    "    $('.hidden-print').hide();\n",
    "  });\n",
    "</script>\n",
    "\n",
    "<footer id=\"attribution\" style=\"float:right; color:#808080; background:#fff;\">\n",
    "Created with Jupyter by Esteban Jiménez Rodríguez.\n",
    "</footer>"
   ]
  }
 ],
 "metadata": {
  "kernelspec": {
   "display_name": "Python 3 (ipykernel)",
   "language": "python",
   "name": "python3"
  },
  "language_info": {
   "codemirror_mode": {
    "name": "ipython",
    "version": 3
   },
   "file_extension": ".py",
   "mimetype": "text/x-python",
   "name": "python",
   "nbconvert_exporter": "python",
   "pygments_lexer": "ipython3",
   "version": "3.10.12"
  }
 },
 "nbformat": 4,
 "nbformat_minor": 4
}
