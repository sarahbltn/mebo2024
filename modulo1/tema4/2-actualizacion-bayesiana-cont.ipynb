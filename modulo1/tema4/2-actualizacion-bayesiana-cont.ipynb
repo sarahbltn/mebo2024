{
 "cells": [
  {
   "cell_type": "markdown",
   "metadata": {},
   "source": [
    "# Actualización Bayesiana Continua\n",
    "\n",
    "<img style=\"float: right; margin: 0px 0px 15px 15px;\" src=\"https://upload.wikimedia.org/wikipedia/commons/1/18/Bayes%27_Theorem_MMB_01.jpg\" width=\"500px\" height=\"300px\" />\n",
    "\n",
    "> Como en la vida, que vamos actualizando nuestro conocimiento del mundo con cada nueva experiencia, en inferencia Bayesiana, con cada dato o conjunto de datos que obtenemos, podemos actualizar nuestro conocimiento acerca de la situación que estamos interesados.\n",
    "\n",
    "> **Objetivos:**\n",
    "> - Comprender una familia de distributiones parametrizadas que representa un rango continuo de hipótesis para los datos observados.\n",
    "> - Aplicar el teorema de Bayes para actualizar la densidad de probabilidad dados los datos y una distribución posterior.\n",
    "> - Interpretar y usar probabilidades predictivas posteriores.\n",
    "\n",
    "> **Referencias:**\n",
    "> - https://ocw.mit.edu/courses/18-05-introduction-to-probability-and-statistics-spring-2022/mit18_05_s22_statistics.pdf"
   ]
  },
  {
   "cell_type": "markdown",
   "metadata": {},
   "source": [
    "## 1. Introducción\n",
    "\n",
    "Hasta ahora hemos hecho actualización Bayesiana solo con un conjunto finito de hipótesis, por ejemplo, en el ejemplo de las monedas, solo teníamos tres tipos de monedas. Ahora estudiaremos la actualización Bayesiana cuando tenemos un rango continuo de hipótesis.\n",
    "\n",
    "El procedimiento será prácticamente el mismo que en el caso discreto. Como es usual, cambiaremos la pmf por pdf y sumas por integrales.\n",
    "\n",
    "**¿Cuándo tenemos rangos continuos de hipótesis?**\n",
    "\n",
    "1. Supongamos que tenemos un sistema que puede tener éxito con probabilidad $p$ y fallar con probabilidad $1-p$. Podemos hacer la hipótesiis de que $p \\in [0,1]$. Es decir, tenemos un rango continuo de hipótesis, una para cada $p \\in [0,1]$. Este tipo de ejemplos se modelan comúnmente con una moneda desconocida.\n",
    "\n",
    "2. En principio los parámetros $\\mu$ y $\\sigma$ en una distribución normal, pueden ser números reales en $(-\\infty, \\infty)$ y $(0, \\infty)$, respectivamente. Si modelamos la duración gestacional (embarazo) para nacimientos individuales con una distribución normal, después de actualizar con millones de datos, nos daremos cuenta que $\\mu$ está alrededor de 40 semanas y $\\sigma$ está alrededor de una semana."
   ]
  },
  {
   "cell_type": "markdown",
   "metadata": {},
   "source": [
    "En los ejemplos anteriores, las hipótesis toman la forma de *cierto parámetro tiene valor $\\theta$*. Usaremos la letra $\\theta$ para denotar una hipótesis arbitraria."
   ]
  },
  {
   "cell_type": "markdown",
   "metadata": {},
   "source": [
    "## 2. Previas continuas, verosimilitudes discretas\n",
    "\n",
    "En la clase pasada, tanto la probabilidad previa como la verosimilitud eran discretas. Veamos el siguiente ejemplo:\n",
    "\n",
    "**Ejemplo.** Supongamos que tenemos una moneda con probabilidad desconocida $\\theta$ de caer en cara. El valor de $\\theta$ es aleatorio y podría ser cualquiercosa entre 0 y 1.\n",
    "\n",
    "Para este ejemplo, supongamos que $\\theta$ sigue una pdf previa continua $p(\\theta) = 2 \\theta$. \n",
    "\n",
    "Tenemos una verosimilitud discreta dado que tirar una moneda solo tiene dos posibles resultados:\n",
    "\n",
    "$$\n",
    "p(x=1 | \\theta) = \\theta, \\qquad p(x=0 | \\theta) = 1 - \\theta.\n",
    "$$\n",
    "\n",
    "Entonces, usando la regla de Bayes, obtenemos que:\n",
    "\n",
    "$$\n",
    "p(\\theta | x) = \\frac{p(x | \\theta) p(\\theta)}{p(x)}.\n",
    "$$\n",
    "\n",
    "En este caso, la *ley de probabilidad total* la escribimos como $p(x) = \\int_{-\\infty}^{\\infty} p(x | \\theta) p(\\theta) \\text{d}\\theta$. En el caso particular en que tengamos el dato que la moneda cayó cara, toma la forma:\n",
    "\n",
    "$$\n",
    "p(x=1) = \\int_{0}^{1} p(x=1 | \\theta) p(\\theta) \\text{d}\\theta = \\int_{0}^{1} \\theta \\cdot 2\\theta \\text{d}\\theta = \\frac{2}{3}.\n",
    "$$"
   ]
  },
  {
   "cell_type": "markdown",
   "metadata": {},
   "source": [
    "**Nota.** Precisamente la ley de probabilidad total será, en general, bastante compleja de calcular en la mayoría de los casos, por lo que luego nos decantaremos por métodos numéricos para aproximar la distribución posterior."
   ]
  },
  {
   "cell_type": "markdown",
   "metadata": {},
   "source": [
    "Ahora que tenemos todos los ingredientes, escribimos nuestra tabla de actualziación Bayesiana, teniendo en mente que:\n",
    "\n",
    "> No podemos enumerar una fila para cada hipótesis. Solo escribimos una.\n",
    "\n",
    "Supongamos que observamos en tres tiros de la moneda, la secuencia cara-cara-sello. Calculemos la pdf posterior para $\\theta$:\n",
    "\n",
    "| Hipótesis | Rango          | Previa                                     | Verosimilitud              | Numerador de Bayes                                         | Posterior                  |\n",
    "| --------- | -------------- | ------------------------------------------ | -------------------------- | ---------------------------------------------------------- | -------------------------- |\n",
    "| $\\theta$  | rango $\\theta$ | $p(\\theta)$                                | $p(x = 1, 1, 0 \\| \\theta)$ | $p(x = 1, 1, 0 \\| \\theta)p(\\theta)$                        | $p(\\theta \\| x = 1, 1, 0)$ |\n",
    "|           |                |                                            |                            |                                                            |                            |\n",
    "| $\\theta$  | [0, 1]         | $2 \\theta$                                 | $\\theta^2(1-\\theta)$       | $2 \\theta^3 (1-\\theta)$                                    | $20 \\theta^3 (1-\\theta)$   |\n",
    "|           |                |                                            |                            |                                                            |                            |\n",
    "| total     | [0, 1]         | $\\int_{0}^{1} 2 \\theta \\text{d}\\theta = 1$ | NO SUMA                    | $\\int_{0}^{1} 2 \\theta^3 (1-\\theta) \\text{d}\\theta = 1/10$ | $1$                        |"
   ]
  },
  {
   "cell_type": "markdown",
   "metadata": {},
   "source": [
    "Es decir, la distribución posterior para $\\theta$ después de observar la secuencia cara-cara-sello, es:\n",
    "\n",
    "$$\n",
    "p(\\theta | x = 1, 1, 0) = 20 \\theta^3 (1-\\theta).\n",
    "$$"
   ]
  },
  {
   "cell_type": "code",
   "execution_count": null,
   "metadata": {},
   "outputs": [],
   "source": [
    "# Importar pyplot\n"
   ]
  },
  {
   "cell_type": "code",
   "execution_count": null,
   "metadata": {},
   "outputs": [],
   "source": [
    "# Dibujar previa y posterior\n"
   ]
  },
  {
   "cell_type": "markdown",
   "metadata": {},
   "source": [
    "Una vez más, incluso para el caso de previas continuas, tenemos que:\n",
    "\n",
    "$$\n",
    "p(\\text{hipótesis} | \\text{datos}) \\propto p(\\text{datos} | \\text{hipótesis}) p(\\text{hpótesis})\n",
    "$$\n",
    "\n",
    "o equivalentemente:\n",
    "\n",
    "$$\n",
    "\\text{posterior} \\propto \\text{verosimilitud} \\cdot \\text{previa}.\n",
    "$$"
   ]
  },
  {
   "cell_type": "markdown",
   "metadata": {},
   "source": [
    "**Ejemplo.** En el ejemplo anterior supusimos una distribución previa particular para $\\theta$. Esta distribución $p(\\theta)=2 \\theta$ implica que hay más probabilidad (previa) de que la moneda caiga cara. ¿Qué pasaría si no tuviéramos conocimiento previo alguno de esta probabilidad?\n",
    "\n",
    "En este caso, suponemos que la previa es *plana* (uniforme en (0,1)). Similar al ejemplo anterior:\n",
    "\n",
    "| Hipótesis | Rango          | Previa                              | Verosimilitud              | Numerador de Bayes                                         | Posterior                  |\n",
    "| --------- | -------------- | ----------------------------------- | -------------------------- | ---------------------------------------------------------- | -------------------------- |\n",
    "| $\\theta$  | [0, 1]         | $1$                                 | $\\theta^2(1-\\theta)$       | $\\theta^2(1-\\theta)$                                       | $12 \\theta^2 (1-\\theta)$   |\n",
    "|           |                |                                     |                            |                                                            |                            |\n",
    "| total     | [0, 1]         | $\\int_{0}^{1} 1 \\text{d}\\theta = 1$ | NO SUMA                    | $\\int_{0}^{1} \\theta^2(1-\\theta) \\text{d}\\theta = 1/12$    | $1$                        |"
   ]
  },
  {
   "cell_type": "code",
   "execution_count": null,
   "metadata": {},
   "outputs": [],
   "source": [
    "# Dibujar previa y posterior\n"
   ]
  },
  {
   "cell_type": "markdown",
   "metadata": {},
   "source": [
    "### 2.1. Usando la distribución posterior\n",
    "\n",
    "Una vez tenemos la distribución posterior, la podemos utilizar para responder preguntas. Por ejemplo:\n",
    "\n",
    "Con una distribución plana como la anterior, podemos ver que la moneda en principio no está sesgada:\n",
    "\n",
    "$$\n",
    "p(\\theta > 0.5) = \\int_{0.5}^{1} 1 \\text{d}\\theta = 0.5 = p(\\theta < 0.5).\n",
    "$$\n",
    "\n",
    "Después de observar la secuencia cara-cara-sello, ¿Está sesgada la moneda?\n",
    "\n",
    "$$\n",
    "p(\\theta > 0.5 | x = 1, 1, 0) = \\int_{0.5}^{1} 12 \\theta^2 (1-\\theta) \\text{d}\\theta = 12 \\left(\\frac{\\theta^3}{3} - \\frac{\\theta^4}{4}\\right)_{0.5}^1 = 1 - \\frac{5}{16} =\\frac{11}{16} > 0.5,\n",
    "$$\n",
    "\n",
    "por lo cual, si tenemos indicios de que la moneda tiene más probabilidad a caer cara."
   ]
  },
  {
   "cell_type": "markdown",
   "metadata": {},
   "source": [
    "### 2.2. Probabilidades predictivas\n",
    "\n",
    "Igual que en el caso discreto, es común querer usar las probabilidades posteriores para hacer predicciones de lo que va a suceder.\n",
    "\n",
    "**Ejemplo.** Continuando con el ejemplo original, tenemos una moneda con probabilida desconocida $\\theta$ de caer cara, y tenemos una pdf previa $p(\\theta) = 2 \\theta$. Encontrar:\n",
    "\n",
    "- La probabilidad predictiva previa de que caiga cara.\n",
    "- Suponga que se hace un tiro, y cae cara. Encuentre la probabilidad predictiva posterior de que caiga cara."
   ]
  },
  {
   "cell_type": "markdown",
   "metadata": {},
   "source": [
    "Sean $x_1$ y $x_2$ los resultados de los tiros 1 y 2 de la moneda, respectivamente.\n",
    "\n",
    "Para la probabilidad predictiva previa tenemos que:\n",
    "\n",
    "$$\n",
    "p(x_1 = 1) = \\int_{0}^{1} p(x_1 = 1 | \\theta) p(\\theta) \\text{d}\\theta = \\int_{0}^{1} 2 \\theta^2 \\text{d}\\theta = \\frac{2}{3}.\n",
    "$$"
   ]
  },
  {
   "cell_type": "markdown",
   "metadata": {},
   "source": [
    "Para la probabilidad predictiva posterior, actualizamos a la posterior:\n",
    "\n",
    "| Hipótesis | Rango          | Previa                                    | Verosimilitud  | Numerador de Bayes                                | Posterior                  |\n",
    "| --------- | -------------- | ----------------------------------------- | -------------- | ------------------------------------------------- | -------------------------- |\n",
    "| $\\theta$  | [0, 1]         | $2\\theta$                                 | $\\theta$       | $2\\theta^2$                                       | $3 \\theta^2$               |\n",
    "|           |                |                                           |                |                                                   |                            |\n",
    "| total     | [0, 1]         | $\\int_{0}^{1} 2\\theta \\text{d}\\theta = 1$ | NO SUMA        | $\\int_{0}^{1} 2\\theta^2 \\text{d}\\theta = 2/3$     | $1$                        |"
   ]
  },
  {
   "cell_type": "markdown",
   "metadata": {},
   "source": [
    "Con lo anterior,\n",
    "\n",
    "$$\n",
    "p(x_2=1 | x_1=1) = \\int_{0}^{1} p(x_2 = 1 | \\theta, x_1 = 1) p(\\theta | x_1 = 1) \\text{d}\\theta = \\int_{0}^{1} \\theta \\cdot 3 \\theta^2 \\text{d}\\theta = \\frac{3}{4}.\n",
    "$$"
   ]
  },
  {
   "cell_type": "markdown",
   "metadata": {},
   "source": [
    "## 3. Todo continuo: previas continuas, verosimilitudes continuas\n",
    "\n",
    "Igual que antes, las ideas siguen siendo las mismas, con algunos detalles técnicos. Veámoslo con un ejemplo.\n",
    "\n",
    "**Ejemplo: Hipótesis y datos normales.**  Supongamos que tenemos un dato $x=5$ que obtuvimos de una distribución normal con media $\\theta$ y varianza 1 (uno):\n",
    "\n",
    "$$\n",
    "x \\sim \\text{Normal}(\\theta, 1).\n",
    "$$\n",
    "\n",
    "Ahora, supongamos que nuestra previa para el parámetro $\\theta$ es $\\theta \\sim \\text{Normal}(2, 1)$.\n",
    "\n",
    "Encontremos la distribución posterior. Tenemos que la previa es:\n",
    "\n",
    "$$\n",
    "p(\\theta) = \\frac{1}{\\sqrt{2 \\pi}}e^{-(\\theta - 2)^2/2}.\n",
    "$$"
   ]
  },
  {
   "cell_type": "markdown",
   "metadata": {},
   "source": [
    "La verosimilitud es:\n",
    "\n",
    "$$\n",
    "p(x=5 | \\theta) = \\frac{1}{\\sqrt{2 \\pi}}e^{-(5 - \\theta)^2/2}.\n",
    "$$\n",
    "\n",
    "Para obtener el numerador de Bayes, multiplicamos la previa y la verosimilitud:\n",
    "\n",
    "$$\n",
    "\\begin{align} \\nonumber\n",
    "p(\\theta) \\cdot p(x=5 | \\theta) & = & \\frac{1}{\\sqrt{2 \\pi}}e^{-(\\theta - 2)^2/2} \\cdot \\frac{1}{\\sqrt{2 \\pi}}e^{-(5 - \\theta)^2/2} \\\\ \\nonumber\n",
    "& = & \\frac{1}{2 \\pi} e^{-(2 \\theta^2 - 14 \\theta + 29) / 2} \\\\ \\nonumber\n",
    "& = & \\frac{1}{2 \\pi} e^{-(\\theta^2 - 7 \\theta + 29/2)} & \\qquad \\text{(completamos el cuadrado)} \\\\ \\nonumber\n",
    "& = & \\frac{1}{2 \\pi} e^{-(\\theta - 7/2)^2 - 9/4} \\\\ \\nonumber\n",
    "& = & \\frac{e^{- 9/4}}{2 \\pi} e^{-(\\theta - 7/2)^2} \\\\ \\nonumber\n",
    "& = & c_1 e^{-(\\theta - 7/2)^2}\n",
    "\\end{align}\n",
    "$$"
   ]
  },
  {
   "cell_type": "markdown",
   "metadata": {},
   "source": [
    "Con lo anterior:\n",
    "\n",
    "| Hipótesis | Previa                                        | Verosimilitud                                 | Numerador de Bayes          | Posterior                   |\n",
    "| --------- | --------------------------------------------- | --------------------------------------------- | --------------------------- | --------------------------- |\n",
    "| $\\theta$  | $\\frac{1}{\\sqrt{2 \\pi}}e^{-(\\theta - 2)^2/2}$ | $\\frac{1}{\\sqrt{2 \\pi}}e^{-(5 - \\theta)^2/2}$ | $c_1 e^{-(\\theta - 7/2)^2}$ | $c_2 e^{-(\\theta - 7/2)^2}$ |\n",
    "|           |                                               |                                               |                             |                             |\n",
    "| total     | $1$                                           | NO SUMA                                       | $\\int_{-\\infty}^{\\infty} c_1 e^{-(\\theta - 7/2)^2} \\text{d}\\theta = c1/c2$     | $1$                        |"
   ]
  },
  {
   "cell_type": "markdown",
   "metadata": {},
   "source": [
    "Notemos que la constante en el último paso del producto, la resumimos en la constante $c_1$.\n",
    "\n",
    "Por la forma de la posterior, vemos que es una distribución normal, dado que la forma  de la exponencial para una normal es:\n",
    "\n",
    "$$\n",
    "e^{-(\\theta - \\mu)^2/2\\sigma^2}.\n",
    "$$\n",
    "\n",
    "Lo cual significa que $\\mu = 7/2$ y $\\sigma^2 = 1/2$.\n",
    "\n",
    "No es necesario calcular la probabilidad total (integral del numerador de Bayes). Nosotros ya sabemos que $\\frac{1}{\\sigma\\sqrt{2 \\pi}}$ es la constante que normaliza una distribución normal. Por tanto, **la distribución posterior sigue una distribución** $\\text{Normal}(7/2,1/2)$."
   ]
  },
  {
   "cell_type": "code",
   "execution_count": null,
   "metadata": {},
   "outputs": [],
   "source": [
    "# Dibujar previa y posterior\n"
   ]
  },
  {
   "cell_type": "markdown",
   "metadata": {},
   "source": [
    "Si repetimos lo anterior para un $x$ arbitrario:\n",
    "\n",
    "| Hipótesis | Previa                                        | Verosimilitud                                 | Numerador de Bayes                | Posterior                         |\n",
    "| --------- | --------------------------------------------- | --------------------------------------------- | --------------------------------- | --------------------------------- |\n",
    "| $\\theta$  | $\\frac{1}{\\sqrt{2 \\pi}}e^{-(\\theta - 2)^2/2}$ | $\\frac{1}{\\sqrt{2 \\pi}}e^{-(x - \\theta)^2/2}$ | $c_1 e^{-(\\theta - (1 + x/2))^2}$ | $c_2 e^{-(\\theta - (1 + x/2))^2}$ |\n",
    "| $\\theta$  | $\\theta \\sim \\text{Normal}(2, 1)$             | $x \\sim \\text{Normal}(\\theta, 1)$             |                                   | $\\theta \\sim \\text{Normal}(1 + x/2, 1/2)$ |\n",
    "|           |                                               |                                               |                                   |                                   |\n",
    "| total     | $1$                                           | NO SUMA                                       | $c1/c2$                           | $1$                               |\n",
    "\n",
    "La posterior sigue una $\\text{Normal}(1 + x/2, 1/2)$."
   ]
  },
  {
   "cell_type": "markdown",
   "metadata": {},
   "source": [
    "<script>\n",
    "  $(document).ready(function(){\n",
    "    $('div.prompt').hide();\n",
    "    $('div.back-to-top').hide();\n",
    "    $('nav#menubar').hide();\n",
    "    $('.breadcrumb').hide();\n",
    "    $('.hidden-print').hide();\n",
    "  });\n",
    "</script>\n",
    "\n",
    "<footer id=\"attribution\" style=\"float:right; color:#808080; background:#fff;\">\n",
    "Created with Jupyter by Esteban Jiménez Rodríguez.\n",
    "</footer>"
   ]
  }
 ],
 "metadata": {
  "kernelspec": {
   "display_name": "mebo2024_v4",
   "language": "python",
   "name": "python3"
  },
  "language_info": {
   "name": "python",
   "version": "3.9.19"
  }
 },
 "nbformat": 4,
 "nbformat_minor": 2
}
