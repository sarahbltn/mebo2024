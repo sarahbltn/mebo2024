{
 "cells": [
  {
   "cell_type": "markdown",
   "metadata": {},
   "source": [
    "# Conociendo Python\n",
    "\n",
    "<img style=\"float: right; margin: 0px 0px 15px 15px;\" src=\"https://upload.wikimedia.org/wikipedia/commons/c/c3/Python-logo-notext.svg\" width=\"200px\" height=\"200px\" />\n",
    "\n",
    "> Guía de instalación y descripción de las herramientas computacionales que se van a utilizar a lo largo del curso. "
   ]
  },
  {
   "cell_type": "markdown",
   "metadata": {},
   "source": [
    "## Un poquito de historia e información general...\n",
    "\n",
    "<img style=\"float: left; margin: 15px 15px 15px 15px;\" src=\"https://upload.wikimedia.org/wikipedia/commons/6/66/Guido_van_Rossum_OSCON_2006.jpg\" width=\"200px\" height=\"200px\" />\n",
    "\n",
    "- Python fue creado a finales de los ochenta por **Guido van Rossum** en el Centro para las Matemáticas y la Informática (CWI, Centrum Wiskunde & Informatica), en los Países Bajos, como un sucesor del lenguaje de programación ABC.\n",
    "\n",
    "- El nombre del lenguaje proviene de la afición de su creador por los humoristas británicos **Monty Python**.\n",
    "\n",
    "- Es un software libre, de código abierto, regido por la [Python Software Foundation License](https://es.wikipedia.org/wiki/Python_Software_Foundation_License).\n",
    "\n",
    "- Es un **lenguaje de programación interpretado** creado con la idea de la legibilidad del código.\n",
    "\n",
    "- En este [enlace](http://www.thezenofpython.com/) encontrarán una guía de buenas prácticas.\n",
    "\n",
    "**¿Y porqué específicamente Python?**\n",
    "\n",
    "- [Artículo 1](https://www.economist.com/graphic-detail/2018/07/26/python-is-becoming-the-worlds-most-popular-coding-language)\n",
    "- [Artículo 2](https://www.economist.com/science-and-technology/2018/07/19/python-has-brought-computer-programming-to-a-vast-new-audience)\n",
    "\n"
   ]
  },
  {
   "cell_type": "code",
   "execution_count": 1,
   "metadata": {},
   "outputs": [
    {
     "name": "stdout",
     "output_type": "stream",
     "text": [
      "The Zen of Python, by Tim Peters\n",
      "\n",
      "Beautiful is better than ugly.\n",
      "Explicit is better than implicit.\n",
      "Simple is better than complex.\n",
      "Complex is better than complicated.\n",
      "Flat is better than nested.\n",
      "Sparse is better than dense.\n",
      "Readability counts.\n",
      "Special cases aren't special enough to break the rules.\n",
      "Although practicality beats purity.\n",
      "Errors should never pass silently.\n",
      "Unless explicitly silenced.\n",
      "In the face of ambiguity, refuse the temptation to guess.\n",
      "There should be one-- and preferably only one --obvious way to do it.\n",
      "Although that way may not be obvious at first unless you're Dutch.\n",
      "Now is better than never.\n",
      "Although never is often better than *right* now.\n",
      "If the implementation is hard to explain, it's a bad idea.\n",
      "If the implementation is easy to explain, it may be a good idea.\n",
      "Namespaces are one honking great idea -- let's do more of those!\n"
     ]
    }
   ],
   "source": [
    "# Zen of python\n",
    "import this"
   ]
  },
  {
   "cell_type": "markdown",
   "metadata": {},
   "source": [
    "## Herramientas computacionales"
   ]
  },
  {
   "cell_type": "markdown",
   "metadata": {},
   "source": [
    "### [Python](https://www.python.org) "
   ]
  },
  {
   "cell_type": "markdown",
   "metadata": {},
   "source": [
    "![](https://www.python.org/static/community_logos/python-logo.png)"
   ]
  },
  {
   "cell_type": "markdown",
   "metadata": {},
   "source": [
    "### [Anaconda](https://www.anaconda.com/) "
   ]
  },
  {
   "cell_type": "markdown",
   "metadata": {},
   "source": [
    "![](https://upload.wikimedia.org/wikipedia/en/c/cd/Anaconda_Logo.png)"
   ]
  },
  {
   "cell_type": "markdown",
   "metadata": {},
   "source": [
    "### [Jupyter](https://jupyter.org/)"
   ]
  },
  {
   "cell_type": "markdown",
   "metadata": {},
   "source": [
    "![](https://jupyter.org/assets/homepage/main-logo.svg)\n"
   ]
  },
  {
   "cell_type": "markdown",
   "metadata": {},
   "source": [
    "### [PyMC](https://www.pymc.io/welcome.html)"
   ]
  },
  {
   "cell_type": "markdown",
   "metadata": {},
   "source": [
    "![](https://raw.githubusercontent.com/pymc-devs/brand/main/pymc/pymc_logos/PyMC_banner.svg)"
   ]
  },
  {
   "cell_type": "markdown",
   "metadata": {},
   "source": [
    "## Instalar ANACONDA en su versión mas actualizada... ¡No confundir Anaconda con esto!\n",
    "\n",
    "Si ya tienen anaconda instalado, y no son muy diestros con la administración de librerías, les recomiendo [desinstalarlo](https://docs.anaconda.com/free/anaconda/install/uninstall/) y volverlo a [instalar](https://docs.anaconda.com/free/anaconda/install/)."
   ]
  },
  {
   "cell_type": "markdown",
   "metadata": {},
   "source": [
    "### Recomendaciones\n",
    "\n",
    "1. Instalar última versión de anaconda. Abrir anaconda prompt:\n",
    "   - Para no activar en env base por defecto: `conda config --set auto_activate_base false`\n",
    "   - Para usar conda desde powershell: `conda init powershell`\n",
    "2. Instalar vscode. Recomendaciones:\n",
    "   - Instalar extensión de python\n",
    "   - Instalar extensión de jupyter\n",
    "   - Instalar extensión de gitlens"
   ]
  },
  {
   "cell_type": "code",
   "execution_count": 2,
   "metadata": {
    "scrolled": true
   },
   "outputs": [
    {
     "data": {
      "image/jpeg": "[encoded data removed]",
      "text/html": [
       "\n",
       "        <iframe\n",
       "            width=\"400\"\n",
       "            height=\"300\"\n",
       "            src=\"https://www.youtube.com/embed/LDZX4ooRsWs?embeded=True\"\n",
       "            frameborder=\"0\"\n",
       "            allowfullscreen\n",
       "            \n",
       "        ></iframe>\n",
       "        "
      ],
      "text/plain": [
       "<IPython.lib.display.YouTubeVideo at 0x225387a1400>"
      ]
     },
     "execution_count": 2,
     "metadata": {},
     "output_type": "execute_result"
    }
   ],
   "source": [
    "from IPython.display import YouTubeVideo\n",
    "YouTubeVideo('LDZX4ooRsWs', embeded=True)"
   ]
  },
  {
   "cell_type": "markdown",
   "metadata": {},
   "source": [
    "## Jupyter Notebook\n",
    "\n",
    "Los notebooks tienen celdas de entrada de código, las cuales pueden tener o no salida, así como celdas tipo [Markdown](https://www.markdownguide.org/basic-syntax/), que es lo que estas leyendo ahora. \n",
    "\n",
    "Las celdas de código inician con \"In []:\" con algún numero en los brackets. Si te ubicas sobre una salda de entrada y presionas Shift-Enter, el código correrá en el interprete de python y el resultado se imprimirá en la celda de salida.\n",
    "\n",
    "Ejemplo:"
   ]
  },
  {
   "cell_type": "code",
   "execution_count": 3,
   "metadata": {},
   "outputs": [
    {
     "data": {
      "text/plain": [
       "11"
      ]
     },
     "execution_count": 3,
     "metadata": {},
     "output_type": "execute_result"
    }
   ],
   "source": [
    "5 + 6"
   ]
  },
  {
   "cell_type": "code",
   "execution_count": 4,
   "metadata": {},
   "outputs": [
    {
     "data": {
      "text/plain": [
       "'Hola amigos'"
      ]
     },
     "execution_count": 4,
     "metadata": {},
     "output_type": "execute_result"
    }
   ],
   "source": [
    "\"hOlA AmIgOs\".capitalize()"
   ]
  },
  {
   "cell_type": "markdown",
   "metadata": {},
   "source": [
    "Además de poder insertar código, tiene otras ventajas. Como ya se dieron cuenta toda esta presentación esta hecha con el notebook.\n",
    "\n",
    "Uno de los atractivos más relevantes (personalmente) es que puedes escribir ecuaciones estilo $\\LaTeX$, esto es gracias al proyecto MathJax el cual se especializa en que podamos publicar matemáticas en línea. A continuación, se muestra una ejemplo:"
   ]
  },
  {
   "cell_type": "markdown",
   "metadata": {},
   "source": [
    "**Ecuaciones de Maxwell:**\n",
    "\n",
    "$$\\nabla \\cdot \\boldsymbol{D} = \\rho, \\qquad \\nabla \\cdot \\boldsymbol{B} = 0, \\qquad \\nabla \\times \\boldsymbol{E} = - \\frac{\\partial \\boldsymbol{B}}{\\partial t}, \\qquad \\nabla \\times \\boldsymbol{H} = \\boldsymbol{J} + \\frac{\\partial \\boldsymbol{D}}{\\partial t}$$"
   ]
  },
  {
   "cell_type": "markdown",
   "metadata": {},
   "source": [
    "## Herramientas de gestión de versiones"
   ]
  },
  {
   "cell_type": "markdown",
   "metadata": {},
   "source": [
    "## [git](https://git-scm.com/)\n",
    "\n",
    "![git](https://git-scm.com/images/logo@2x.png)\n",
    "\n",
    "git es un software (de código abierto) de control de versiones diseñado por Linus Torvalds, pensando en la eficiencia y la confiabilidad del mantenimiento de versiones de aplicaciones cuando éstas tienen un gran número de archivos de código fuente.\n",
    "\n",
    "Se llama control de versiones a la gestión de los diversos cambios que se realizan sobre los elementos de algún producto o una configuración del mismo. Una versión, revisión o edición de un producto, es el estado en el que se encuentra el mismo en un momento dado de su desarrollo o modificación.\n",
    "\n",
    "git es independiente de GitHub, y es el programa que se usa para gestionar todos los cambios en las versiones de un proyecto (individual o colaborativo, local o de acceso remoto)."
   ]
  },
  {
   "cell_type": "markdown",
   "metadata": {},
   "source": [
    "## [GitHub](https://github.com/)\n",
    "\n",
    "![github](https://upload.wikimedia.org/wikipedia/commons/thumb/9/91/Octicons-mark-github.svg/240px-Octicons-mark-github.svg.png)\n",
    "\n",
    "GitHub es una compañía que ofrece servicios de hosting para repositorios de git, y es la forma más popular para trabajar con el control de versiones que brinda git de forma colaborativa. En pocas palabras, permite que tanto tú como otras personas del mundo trabajen juntos en proyectos, haciendo control de versiones con git.\n",
    "\n",
    "De forma que usando git y GitHub en conjunto se puede trabajar tanto:\n",
    "\n",
    "- De forma local: repositorios en tu equipo, sin necesidad de conexión a internet (usando únicamente git).\n",
    "- De forma remota: repositorios remotos (compartidos) que no están necesariamente en tu máquina.\n",
    "\n",
    "Importante: se recomienda crear una cuenta seria, no solo porque la vamos a utilizar continuamente en el curso, sino porque probablemente sea parte importante de su carrera profesional."
   ]
  },
  {
   "cell_type": "markdown",
   "metadata": {},
   "source": [
    "## [GitKraken](https://www.gitkraken.com/)\n",
    "\n",
    "![gitkraken](https://th.bing.com/th/id/OIP.gGX01pGrUtSDcTfoCAClJwHaHZ?rs=1&pid=ImgDetMain)\n",
    "\n",
    "Usamos git desde una interfaz gráfica :)\n",
    "\n",
    "Todos los procedimientos con git se pueden correr desde la consola. Sin embargo, este modo de utilizar git puede ser tedioso para algunos (esto no solo ocurre con git).\n",
    "\n",
    "Por ello, git viene con algunas herramientas GUI (Graphical User Interface) por defecto con su instalación. Aún así, existen varias GUI desarrolladas por otras compañías para brindar una experiencia más cómoda según el sistema operativo.\n",
    "\n",
    "GitKraken es entonces una de estas GUI, gratuita para el uso no comercial, que tiene versiones para los sistemas operativos Windows, Mac y Linux. La estaremos usando en el curso por su versatilidad."
   ]
  },
  {
   "cell_type": "markdown",
   "metadata": {},
   "source": [
    "### Seguir un proyecto en github\n",
    "\n",
    "Vamos a seguir el proyecto de este curso, para siempre estar todos sincronizados con el material.\n",
    "\n",
    "Los siguientes pasos nos enseñarán como mantener nuestro repositorio local actualizado con el repositorio de la asignatura.\n",
    "\n",
    "1. Entrar al repositorio https://github.com/esjimenezro/mebo2024.\n",
    "2. En la esquina superior derecha, dar click en fork y esperar un momento. Esta acción copia en su cuenta de GitHub un repositorio idéntico al de la materia (con el mismo nombre).\n",
    "3. Desde GitKraken, clonar el repositorio (el que ya está en su cuenta).\n",
    "4. En la pestaña REMOTE dar click en el signo +.\n",
    "   - Picar en GitHub.\n",
    "   - Desplegar la pestaña y elegir esjimenezro/mebo2024.\n",
    "   - Picar en Add remote.\n",
    "5. Arrastrar el repositorio remoto ajeno a la rama master y dar click en la opción Merge esjimenezro/master into master. Ya el repositorio local está actualizado.\n",
    "6. Para actualizar el repositorio remoto propio hacer un push."
   ]
  },
  {
   "cell_type": "markdown",
   "metadata": {},
   "source": [
    "Finalmente, una vez clonado el repositorio, deberemos generar un ambiente virtual de anaconda con algunas librerías necesarias dentro del curso.\n",
    "\n",
    "```\n",
    "conda env create -f environment_v4.yml\n",
    "```"
   ]
  },
  {
   "cell_type": "markdown",
   "metadata": {},
   "source": [
    "Posteriormente, para activar el ambiente creado, se debe hacer:\n",
    "\n",
    "```\n",
    "conda activate mebo2024_v4\n",
    "```"
   ]
  },
  {
   "cell_type": "markdown",
   "metadata": {},
   "source": [
    "<script>\n",
    "  $(document).ready(function(){\n",
    "    $('div.prompt').hide();\n",
    "    $('div.back-to-top').hide();\n",
    "    $('nav#menubar').hide();\n",
    "    $('.breadcrumb').hide();\n",
    "    $('.hidden-print').hide();\n",
    "  });\n",
    "</script>\n",
    "\n",
    "<footer id=\"attribution\" style=\"float:right; color:#808080; background:#fff;\">\n",
    "Created with Jupyter by Esteban Jiménez Rodríguez.\n",
    "</footer>"
   ]
  }
 ],
 "metadata": {
  "anaconda-cloud": {},
  "kernelspec": {
   "display_name": "Python 3 (ipykernel)",
   "language": "python",
   "name": "python3"
  },
  "language_info": {
   "codemirror_mode": {
    "name": "ipython",
    "version": 3
   },
   "file_extension": ".py",
   "mimetype": "text/x-python",
   "name": "python",
   "nbconvert_exporter": "python",
   "pygments_lexer": "ipython3",
   "version": "3.9.19"
  }
 },
 "nbformat": 4,
 "nbformat_minor": 4
}
