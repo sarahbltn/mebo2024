{
 "cells": [
  {
   "cell_type": "markdown",
   "metadata": {},
   "source": [
    "# Tarea 1. Repaso de teoría de probabilidad\n",
    "\n",
    "<img style=\"float: right; margin: 0px 0px 15px 15px;\" src=\"https://storage.needpix.com/rsynced_images/bayesian-2889576_1280.png\" width=\"200px\" height=\"180px\" />\n",
    "\n",
    "Esta constituye la primera tarea del curso. Las tareas están pensadas para que afiances los conocimientos vistos en clase, repases la clase y debas darle una segunda leida. Incluso revisar otro material.\n",
    "\n",
    "Esta primera tarea contiene ejercicios para que repases conceptos básicos de teoría de probabilidad.\n",
    "\n",
    "Por favor, intenta ser lo más explícit@ posible, y en lo posible, apóyate de la escritura matemática con $\\LaTeX$.\n",
    "\n",
    "Recuerda además que ante cualquier duda, me puedes contactar al correo esjimenezro@iteso.mx.\n",
    "\n",
    "<p style=\"text-align:right;\"> Imagen recuperada de: https://storage.needpix.com/rsynced_images/bayesian-2889576_1280.png.</p>\n",
    "\n",
    "___"
   ]
  },
  {
   "cell_type": "markdown",
   "metadata": {},
   "source": [
    "## 1. \n",
    "\n",
    "Supongamos que una prueba para la COVID-19 tiene una precisión del 95%. Esto es, si el paciente está infectado, entonces el resultado de la prueba será positivo con probabilidad de 0.95, y si el paciente NO está infectado, el resutado de la prueba será negativo con probabilidad de 0.95.\n",
    "\n",
    "Además, supongamos que la probabilidad de estar infectado es de 0.017 (1.7%).\n",
    "\n",
    "Ahora, suponga que una persona tuvo un resultado de prueba positivo.\n",
    "\n",
    "1. ¿Cuál es la probabilidad de que esta persona esté infectada en efecto?\n",
    "\n",
    "2. ¿Cuál es la probabilidad de que no esté infectada?"
   ]
  },
  {
   "cell_type": "markdown",
   "metadata": {},
   "source": [
    "___\n",
    "- $P(I)$= $0.017$ (Probabilidad de estar infectado)\n",
    "- $P(N)$= $1-P(I)= 0.983$ (Probabilidad de no estar infectado)\n",
    "- $P(+ | I)$= $0.95$ (Probabilidad de obtener un resultado positivo dado que esta infectado)\n",
    "- $P(- | N)$= $0.05$ (Probabilidad de obtener un resultado positivo dado que no esta infectado)\n",
    "___"
   ]
  },
  {
   "cell_type": "markdown",
   "metadata": {},
   "source": [
    "1. La probabilidad de que esta persona esté infectada. $P(I | +)$\n",
    "\n",
    "Teorema de Bayes:\n",
    "\n",
    "$$P(I | +) = \\frac{P(T^+ | I) \\cdot P(I)}{P(+)}$$\n",
    "$$P(+) = P(+ | I) \\cdot P(I) + P(+ | \\neg I) \\cdot P(\\neg I)$$\n",
    "$$P(+) = (0.95 \\cdot 0.017) + (0.05 \\cdot 0.983) = 0.0653$$\n",
    "$$P(I | +) = \\frac{0.95 \\cdot 0.017}{0.0653} = 0.2474$$\n",
    "___\n",
    "2. La probabilidad de que no este infectado.\n",
    "\n",
    "$$P(\\neg I | +) = 1 - P(I | +) = 1 - 0.2474 = 0.7526$$\n",
    "___\n"
   ]
  },
  {
   "cell_type": "markdown",
   "metadata": {},
   "source": [
    "## 2. \n",
    "\n",
    "(Ejercicio 1.3 Pattern Recognition and Machine Learning, by Christopher M. Bishop.) \n",
    "\n",
    "Supongamos que tenemos tres cajas: $r$ (roja), $a$ (azul), y $v$ (verde). Los contenidos de las cajas son:\n",
    "\n",
    "- $r$: 3 manzanas, 4 naranjas, y 3 limas.\n",
    "- $a$: 1 manzanas, 1 naranjas, y 0 limas.\n",
    "- $v$: 3 manzanas, 3 naranjas, y 4 limas\n",
    "\n",
    "Si la caja se elige aleatoriamente con probabilidades $p(r) = 0.2$, $p(b) = 0.2$, $p(g) = 0.6$, y una fruta se selecciona de la caja elegida, con igual probabilidad de seleccionar cualquier elemento de la caja, \n",
    "\n",
    "1. ¿Cuál es la probabilida de seleccionar una manzana?\n",
    "2. Si observamos que la fruta seleccionada es una naranja, ¿Cuál es la probabilidad de que provenga de la caja verde?"
   ]
  },
  {
   "cell_type": "markdown",
   "metadata": {},
   "source": [
    "___\n",
    "1. Probabilidad de seleccionar una manzana\n",
    "\n",
    "Usamos el teorema de la probabilidad total:\n",
    "\n",
    "$p(\\text{manzana}) = p(r) \\cdot p(\\text{manzana} | r) + p(a) \\cdot p(\\text{manzana} | a) + p(v) \\cdot p(\\text{manzana} | v)$\n",
    "\n",
    "Donde:\n",
    "\n",
    "- $p(r) = 0.2$, $p(a) = 0.2$, $p(v) = 0.6$\n",
    "- $p(\\text{manzana} | r) = \\frac{3}{10}$\n",
    "- $p(\\text{manzana} | a) = \\frac{1}{2}$\n",
    "- $p(\\text{manzana} | v) = \\frac{3}{10}$\n",
    "\n",
    "Sustituyendo:\n",
    "\n",
    "$p(\\text{manzana}) = (0.2 \\cdot \\frac{3}{10}) + (0.2 \\cdot \\frac{1}{2}) + (0.6 \\cdot \\frac{3}{10})$\n",
    "\n",
    "$p(\\text{manzana}) = (0.2 \\cdot 0.3) + (0.2 \\cdot 0.5) + (0.6 \\cdot 0.3) = 0.06 + 0.1 + 0.18 = 0.34$\n",
    "\n",
    "Por lo tanto, la probabilidad de seleccionar una manzana es $p(\\text{manzana}) = 0.34$.\n",
    "\n",
    "---\n",
    "\n",
    "2. Probabilidad de que la naranja provenga de la caja verde\n",
    "\n",
    "Para esta parte, usamos el teorema de Bayes:\n",
    "\n",
    "$p(v | \\text{naranja}) = \\frac{p(\\text{naranja} | v) \\cdot p(v)}{p(\\text{naranja})}$\n",
    "\n",
    "Donde:\n",
    "\n",
    "- $p(\\text{naranja} | v) = \\frac{3}{10}$\n",
    "- $p(v) = 0.6$\n",
    "- $p(\\text{naranja})$ se puede calcular usando el teorema de la probabilidad total:\n",
    "\n",
    "$p(\\text{naranja}) = p(r) \\cdot p(\\text{naranja} | r) + p(a) \\cdot p(\\text{naranja} | a) + p(v) \\cdot p(\\text{naranja} | v)$\n",
    "\n",
    "Sustituyendo:\n",
    "\n",
    "$p(\\text{naranja}) = (0.2 \\cdot \\frac{4}{10}) + (0.2 \\cdot \\frac{1}{2}) + (0.6 \\cdot \\frac{3}{10})$\n",
    "\n",
    "$p(\\text{naranja}) = (0.2 \\cdot 0.4) + (0.2 \\cdot 0.5) + (0.6 \\cdot 0.3) = 0.08 + 0.1 + 0.18 = 0.36$\n",
    "\n",
    "Finalmente, calculamos $p(v | \\text{naranja})$:\n",
    "\n",
    "$p(v | \\text{naranja}) = \\frac{\\frac{3}{10} \\cdot 0.6}{0.36} = \\frac{0.18}{0.36} = 0.5$\n",
    "\n",
    "Por lo tanto, la probabilidad de que la naranja provenga de la caja verde es $p(v | \\text{naranja}) = 0.5$.\n",
    "___"
   ]
  },
  {
   "cell_type": "markdown",
   "metadata": {},
   "source": [
    "## 3.\n",
    "\n",
    "Leer la **sección 1.2.4. (The Gaussian distribution)** del libro Pattern Recognition and Machine Learning, by Christopher M. Bishop, las páginas 24 y 25 . A partir de ello:\n",
    "\n",
    "1. ¿Cuáles son los parámetros que caracterizan una distribución Gaussiana?, ¿Qué significan?\n",
    "   \n",
    "2. Define una V.A. normal usando `scipy.stats.norm`, con media y varianza que prefieras:\n",
    "   \n",
    "   ```python\n",
    "   x = stats.norm(loc=mu, scale=sigma)\n",
    "   ```\n",
    "   \n",
    "   Luego, muestrea 10, 100, 1000, y 10000 veces esta V.A. usando el método `rvs`:\n",
    "   \n",
    "   ```python\n",
    "   samples = x.rvs(n)\n",
    "   ```\n",
    "   \n",
    "   Finalmente, toma el promedio simple de cada uno de los conjuntos de muestras:\n",
    "   \n",
    "   ```python\n",
    "   samples.mean()\n",
    "   ```\n",
    "   \n",
    "   ¿Qué puedes concluir del efecto de la cantidad de las muestras sobre este promedio?"
   ]
  },
  {
   "cell_type": "markdown",
   "metadata": {},
   "source": [
    "___\n",
    "A la distribucion Gaussiana la caracterizan 2 parametros:\n",
    "\n",
    "- Media($\\mu$): Es el valor esperado de la variable aleatoria y representa el centro de la distribucion. Es la posicion en el eje horizontal donde la distribucion alcanza su valor maximo.\n",
    "- Varianza($\\sigma^2$): Es una medida de dispersion que gira en torno a la media. Una varianza alta significa que los datos estan mas dispersos o alejados de la media y la curva es mas ancha.\n",
    "\n",
    "La forma de la distribucion Gaussiana es simetrica en torno a la media, su funcion de dencidad de prob. esta dada por:\n",
    "$$\n",
    "p(x|\\mu,\\sigma^2) = \\frac{1}{\\sqrt{2\\pi\\sigma^2}} \\exp\\left(-\\frac{(x - \\mu)^2}{2\\sigma^2}\\right)\n",
    "$$\n",
    "___"
   ]
  },
  {
   "cell_type": "code",
   "execution_count": 1,
   "metadata": {},
   "outputs": [],
   "source": [
    "import numpy as np\n",
    "from scipy import stats"
   ]
  },
  {
   "cell_type": "code",
   "execution_count": 3,
   "metadata": {},
   "outputs": [],
   "source": [
    "mu = 5    # Media\n",
    "sigma = 2 # Desviación estándar\n",
    "x = stats.norm(loc=mu, scale=sigma)"
   ]
  },
  {
   "cell_type": "code",
   "execution_count": 4,
   "metadata": {},
   "outputs": [],
   "source": [
    "samples_10 = x.rvs(10)\n",
    "samples_100 = x.rvs(100)\n",
    "samples_1000 = x.rvs(1000)\n",
    "samples_10000 = x.rvs(10000)"
   ]
  },
  {
   "cell_type": "code",
   "execution_count": 5,
   "metadata": {},
   "outputs": [],
   "source": [
    "mean_10 = samples_10.mean()\n",
    "mean_100 = samples_100.mean()\n",
    "mean_1000 = samples_1000.mean()\n",
    "mean_10000 = samples_10000.mean()"
   ]
  },
  {
   "cell_type": "code",
   "execution_count": 6,
   "metadata": {},
   "outputs": [
    {
     "name": "stdout",
     "output_type": "stream",
     "text": [
      "promedio de 10 muestras: 5.086527828847361\n",
      "promedio de 100 muestras: 4.711249671837236\n",
      "promedio de 1000 muestras: 4.934680160043412\n",
      "promedio de 10000 muestras: 5.020932934898292\n"
     ]
    }
   ],
   "source": [
    "print(f\"promedio de 10 muestras: {mean_10}\")\n",
    "print(f\"promedio de 100 muestras: {mean_100}\")\n",
    "print(f\"promedio de 1000 muestras: {mean_1000}\")\n",
    "print(f\"promedio de 10000 muestras: {mean_10000}\")"
   ]
  },
  {
   "cell_type": "markdown",
   "metadata": {},
   "source": [
    "A medida que aumenta el tamaño de las muestras, el promedio de las muestras tiende a acercarse al valor real de la media ($\\mu$) de la distribución normal. Esto refleja la Ley de los Grandes Números, que establece que, a medida que el tamaño de la muestra crece, la media muestral converge hacia la media poblacional.\n",
    "___"
   ]
  },
  {
   "cell_type": "markdown",
   "metadata": {},
   "source": [
    "# 4.\n",
    "\n",
    "Es común que haya cierta confusión en el significado del valor esperado. Un significado que le podemos dar a este valor, viene dado por la [ley de los grandes números](https://www.khanacademy.org/math/statistics-probability/random-variables-stats-library/expected-value-lib/v/law-of-large-numbers), que básicamente dice que:\n",
    "\n",
    "$$\n",
    "\\mathbb{E}_p[f] \\to \\frac{1}{N} \\sum_{i=1}^N f(x_i), \\text{ cuando } N \\to \\infty\n",
    "$$"
   ]
  },
  {
   "cell_type": "markdown",
   "metadata": {},
   "source": [
    "Para convencerte de esto, en este ejercicio simularás la tirada de un dado justo:\n",
    "\n",
    "1. Definimos la VA $X$ como el valor que muestra el dado cuando cae, es decir $\\mathrm{Val}(X) = \\{1, 2, 3, 4, 5, 6\\}$.\n",
    "2. Como el dado es justo $P(X=i)=\\frac{1}{|\\mathrm{Val}(X)|}=\\frac{1}{6}$ para todo $i=1,\\dots,6$.\n",
    "\n",
    "¿Cuál es el valor esperado $E[X]$?"
   ]
  },
  {
   "cell_type": "code",
   "execution_count": 7,
   "metadata": {},
   "outputs": [],
   "source": [
    "valores = [1, 2, 3, 4, 5, 6]\n",
    "probabilidades = [1/6] * len(valores)"
   ]
  },
  {
   "cell_type": "code",
   "execution_count": 8,
   "metadata": {},
   "outputs": [
    {
     "data": {
      "text/plain": [
       "3.5"
      ]
     },
     "execution_count": 8,
     "metadata": {},
     "output_type": "execute_result"
    }
   ],
   "source": [
    "# Calcular el valor esperado teórico de la VA X\n",
    "valor_esperado = sum(x * p for x, p in zip(valores, probabilidades))\n",
    "valor_esperado"
   ]
  },
  {
   "cell_type": "markdown",
   "metadata": {},
   "source": [
    "___"
   ]
  },
  {
   "cell_type": "markdown",
   "metadata": {},
   "source": [
    "Ahora, viene el paso de simulación. \n",
    "\n",
    "1. Vas a simular por lo menos 1000 veces la tirada del dado, guardando a cada tirada el resultado obtenido.\n",
    "\n",
    "2. Vas a calcular el valor promedio de los resultados *a cada tirada*. Es decir, si los resultados en las primeras $n$ tiradas son $x_1,\\dots,x_n$, el valor promedio en la tirada $n$ es\n",
    "\n",
    "   $$\\bar{x}_n = \\frac{x_1+\\dots+x_n}{n}.$$\n",
    "\n",
    "3. Finalmente, vas a graficar los valores promedio obtenidos a cada tirada (en el eje $y$) vs. el número de tiradas (en el eje $x$). Incluir el valor esperado teórico en la gráfica. ¿Qué observas?\n",
    "\n",
    "*Ayuda: apoyarse del modulo random de numpy.*"
   ]
  },
  {
   "cell_type": "code",
   "execution_count": 18,
   "metadata": {},
   "outputs": [],
   "source": [
    "import matplotlib.pyplot as plt"
   ]
  },
  {
   "cell_type": "code",
   "execution_count": 12,
   "metadata": {},
   "outputs": [],
   "source": [
    "# Simular 1000 veces\n",
    "n_tiradas = 1000\n",
    "probabilidad = 1 / len(valores)\n",
    "resultados = np.random.choice(valores, size=n_tiradas, p=[probabilidad]*len(valores))"
   ]
  },
  {
   "cell_type": "code",
   "execution_count": 13,
   "metadata": {},
   "outputs": [],
   "source": [
    "# Calcular el valor promedio de los resultados a cada tirada\n",
    "promedios_acumulados = np.cumsum(resultados) / np.arange(1, n_tiradas + 1)"
   ]
  },
  {
   "cell_type": "code",
   "execution_count": 14,
   "metadata": {},
   "outputs": [],
   "source": [
    "valor_esperado_teorico = 3.5"
   ]
  },
  {
   "cell_type": "code",
   "execution_count": 19,
   "metadata": {},
   "outputs": [
    {
     "data": {
      "image/png": "[encoded data removed]",
      "text/plain": [
       "<Figure size 1000x600 with 1 Axes>"
      ]
     },
     "metadata": {},
     "output_type": "display_data"
    }
   ],
   "source": [
    "plt.figure(figsize=(10, 6))\n",
    "plt.plot(np.arange(1, n_tiradas + 1), promedios_acumulados, label='Promedio acumulado', color='blue')\n",
    "plt.axhline(y=valor_esperado_teorico, color='red', linestyle='--', label=f'Valor esperado teórico ($E[X]$)')\n",
    "plt.xlabel('Número de tiradas')\n",
    "plt.ylabel('Promedio de resultados')\n",
    "plt.title('Promedio acumulado de tiradas de un dado')\n",
    "plt.legend()\n",
    "plt.grid(True)\n",
    "plt.show()"
   ]
  },
  {
   "cell_type": "markdown",
   "metadata": {},
   "source": [
    "A medida que el número de tiradas aumenta, el promedio de los resultados tiende a acercarse al valor esperado teórico de 3.5.\n",
    "___"
   ]
  },
  {
   "cell_type": "markdown",
   "metadata": {},
   "source": [
    "# 5.\n",
    "\n",
    "[Lectura recomendada](https://ocw.mit.edu/courses/18-05-introduction-to-probability-and-statistics-spring-2022/mit18_05_s22_class06-prep-b.pdf)"
   ]
  },
  {
   "cell_type": "markdown",
   "metadata": {},
   "source": [
    "<script>\n",
    "  $(document).ready(function(){\n",
    "    $('div.prompt').hide();\n",
    "    $('div.back-to-top').hide();\n",
    "    $('nav#menubar').hide();\n",
    "    $('.breadcrumb').hide();\n",
    "    $('.hidden-print').hide();\n",
    "  });\n",
    "</script>\n",
    "\n",
    "<footer id=\"attribution\" style=\"float:right; color:#808080; background:#fff;\">\n",
    "Created with Jupyter by Esteban Jiménez Rodríguez.\n",
    "</footer>"
   ]
  }
 ],
 "metadata": {
  "kernelspec": {
   "display_name": "mebo2024_v4",
   "language": "python",
   "name": "python3"
  },
  "language_info": {
   "codemirror_mode": {
    "name": "ipython",
    "version": 3
   },
   "file_extension": ".py",
   "mimetype": "text/x-python",
   "name": "python",
   "nbconvert_exporter": "python",
   "pygments_lexer": "ipython3",
   "version": "3.9.19"
  }
 },
 "nbformat": 4,
 "nbformat_minor": 4
}
