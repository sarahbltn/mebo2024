{
 "cells": [
  {
   "cell_type": "markdown",
   "metadata": {},
   "source": [
    "# Estimadores de máxima verosimilitud\n",
    "\n",
    "![MLE](https://upload.wikimedia.org/wikipedia/commons/thumb/8/8d/MLfunctionbinomial-en.svg/600px-MLfunctionbinomial-en.svg.png)\n",
    "\n",
    "> La estimación por máxima verosimilitud (maximum likelihood estimation - MLE) es uno de los métodos más utilizados para estimar los parámetros de un modelo probabilístico.\n",
    "\n",
    "> La idea básica, es elegir los parámetros que maximizan la función de verosimilitud. Intuitivamente, esto corresponde a elegir los parámetros que maximizan la probabilidad de los datos observados.\n",
    "\n",
    "> **Objetivos:**\n",
    "> - Comprender el principio de máxima verosimilitud a través de ejemplos básicos.\n",
    "> - Estimar los parámetros de algunas distribuciones comunes usando el principio de máxima verosimilitud.\n",
    "> - Entender las limitaciones básicas de los estimadores de máxima verosimilitud.\n",
    "\n",
    "Referencia:\n",
    "\n",
    "- http://www.cs.toronto.edu/~rgrosse/csc321/probabilistic_models.pdf"
   ]
  },
  {
   "cell_type": "markdown",
   "metadata": {},
   "source": [
    "## 0. Introducción\n",
    "\n",
    "Suponga que tenemos una secuencia de datos $x_1, \\dots, x_n$ que sabemos que provienen de una distribución exponencial. La pregunta es: **¿De cuál distribución exponencial vienen los datos?**\n",
    "\n",
    "Ya hemos hablado de algunas distribuciones, como la binomial, la exponencial, la normal, etcétera. De hecho, lo que llamamos distribución exponencial $\\text{Exponential}(\\lambda)$ no es una sola distribución sino una familia de distribucions parametrizadas por el parámetro $\\lambda$.\n",
    "\n",
    "Es decir, cada valor de $\\lambda$ define una distribución dentro de la familia, con pdf $p(x) = \\lambda e^{-\\lambda x}$. Esto se extiende a las demás distribuciones que hemos estudiado.\n",
    "\n",
    "Ahora, es común que nos enfrentemos a la situación de tener datos aleatorios de los que sabemos (o creemos) que provienen de una distribución paramétrica, cuyos parámetros desconocemos. En este caso queremos utilizar los datos para estimar (o inferir) el valor del (de los) parámetro(s).\n",
    "\n",
    "En clases anteriores, nos concentrábamos en obtener la probabilidad de obtener cierto dato a partir de algún modelo paramétrico con parámetros conocidos. Ahora, en estadística inferencial, le damos la vuelta: estimaremos la probabilidad de los parámetros dados un modelo y datos observados."
   ]
  },
  {
   "cell_type": "markdown",
   "metadata": {},
   "source": [
    "## 1. Principios básicos\n",
    "\n",
    "### 1.1. Principio de máxima verosimilitud\n",
    "\n",
    "**Retomamos el ejemplo de la moneda**.\n",
    "\n",
    "De clases pasadas, sabemos que el experimento de tirar la moneda $n$ veces y contar el número de caras, sigue una distribución $\\text{Binomial}(n,\\theta)$, con pmf\n",
    "\n",
    "$$\n",
    "p(a) = \\left(\\begin{array}{c}n \\\\ a \\end{array}\\right) \\theta^a (1 - \\theta)^{n-a}\n",
    "$$\n",
    "\n",
    "donde $a$ es el número de caras.\n",
    "\n",
    "En un ejemplo concreto, supongamos que se tiró la moneda 100 veces y contamos 55 caras. Por tanto, sabemos que\n",
    "\n",
    "$$\n",
    "p(55) = \\left(\\begin{array}{c}100 \\\\ 55\\end{array}\\right) \\theta^{55}(1 - \\theta)^{45}\n",
    "$$\n",
    "\n",
    "Observamos que la probabilidad de obtener 55 caras depende del valor de $\\theta$, por lo que es usual incluir esto con la notación de probabilidad condicional:\n",
    "\n",
    "$$\n",
    "p(55 | \\theta) = \\left(\\begin{array}{c}100 \\\\ 55\\end{array}\\right) \\theta^{55}(1 - \\theta)^{45}\n",
    "$$\n",
    "\n",
    "Lo anterior, lo podemos leer como: \"la probabilidad de obtener 55 caras dado que la probabilidad de cara en un tiro individual es $\\theta$\"."
   ]
  },
  {
   "cell_type": "markdown",
   "metadata": {},
   "source": [
    "Algunos términos estándar que usamos en estadística:\n",
    "\n",
    "- **Experimento**: Tirar la moneda 100 veces y contar el número de caras.\n",
    "\n",
    "- **Datos**: Los datos son el resultado del experimento. En este caso son las 55 caras.\n",
    "\n",
    "- **Parámetros de interés**: Estamos interesados en conocer el valor del parámetro $\\theta$.\n",
    "\n",
    "- **(Función de) Verosimilitud**: Es la función $p(datos | parámetros)$. Notemos que es una función tanto de los datos, como de los parámetros. En nuestro caso es\n",
    "  $$\n",
    "  p(55 | \\theta) = \\left(\\begin{array}{c}100 \\\\ 55\\end{array}\\right) \\theta^{55}(1 - \\theta)^{45}.\n",
    "  $$"
   ]
  },
  {
   "cell_type": "markdown",
   "metadata": {},
   "source": [
    "Por tanto, una idea razonable es encontrar los parámetros de modo que la Verosimilitud sea máxima (que se maximice la probabilidad de los datos observados).\n",
    "\n",
    "**Definición.** Dado un conjunto de datos, el estimador de máxima verosimilitud (MLE por sus siglas en inglés) para los parámetros, son los valores de los parámetros que maximizan la verosimilitud $p(datos | parámetros)$."
   ]
  },
  {
   "cell_type": "markdown",
   "metadata": {},
   "source": [
    "**Ejemplo:**\n",
    "\n",
    "Para el problema en cuestión, queremos maximizar la versolimilitud \n",
    "\n",
    "$$\n",
    "p(55 | \\theta) = \\left(\\begin{array}{c}100 \\\\ 55\\end{array}\\right) \\theta^{55}(1 - \\theta)^{45}.\n",
    "$$\n",
    "\n",
    "Para esto usamos nociones de cálculo:\n",
    "\n",
    "<details>\n",
    "<summary>Descubrir</summary>\n",
    "\n",
    "$$\n",
    "\\frac{d}{d\\theta} p(55 | \\theta) = \\left(\\begin{array}{c}100 \\\\ 55\\end{array}\\right) \\left(55\\theta^{54}(1 - \\theta)^{45} - 45\\theta^{55}(1 - \\theta)^{44}\\right)\n",
    "$$\n",
    "\n",
    "Igualando a cero:\n",
    "\n",
    "$$\n",
    "\\begin{align} \\nonumber\n",
    "55\\theta^{54}(1 - \\theta)^{45} = 45\\theta^{55}(1 - \\theta)^{44} \\\\ \\nonumber\n",
    "55(1 - \\theta) = 45\\theta \\\\ \\nonumber\n",
    "55 = 100 \\theta\n",
    "\\end{align}\n",
    "$$\n",
    "\n",
    "Por lo que el MLE es $\\hat{\\theta} = \\frac{55}{100}$.\n",
    "</details>"
   ]
  },
  {
   "cell_type": "markdown",
   "metadata": {},
   "source": [
    "Comentarios:\n",
    "\n",
    "1. Esto coincide con la intuición. El MLE para $\\theta$ resulta ser la fracción de caras que tenemos en nuestros datos.\n",
    "\n",
    "2. Para verificar que lo anterior es un máximo, podemos aplicar un criterio de segunda derivada. Otra opción, dado que tenemos un problema en un dominio cerrado $0 \\leq \\theta \\leq 1$, podemos evaluar en los extremos:\n",
    "   - $p(55 | \\theta=0) = p(55 | \\theta=1) = 0$\n",
    "   \n",
    "   y en el punto crítico:"
   ]
  },
  {
   "cell_type": "code",
   "execution_count": 1,
   "metadata": {},
   "outputs": [],
   "source": [
    "# Importamos librería math (función math.comb)\n",
    "import math"
   ]
  },
  {
   "cell_type": "code",
   "execution_count": 2,
   "metadata": {},
   "outputs": [
    {
     "name": "stdout",
     "output_type": "stream",
     "text": [
      "Help on built-in function comb in module math:\n",
      "\n",
      "comb(n, k, /)\n",
      "    Number of ways to choose k items from n items without repetition and without order.\n",
      "    \n",
      "    Evaluates to n! / (k! * (n - k)!) when k <= n and evaluates\n",
      "    to zero when k > n.\n",
      "    \n",
      "    Also called the binomial coefficient because it is equivalent\n",
      "    to the coefficient of k-th term in polynomial expansion of the\n",
      "    expression (1 + x)**n.\n",
      "    \n",
      "    Raises TypeError if either of the arguments are not integers.\n",
      "    Raises ValueError if either of the arguments are negative.\n",
      "\n"
     ]
    }
   ],
   "source": [
    "help(math.comb)"
   ]
  },
  {
   "cell_type": "code",
   "execution_count": 3,
   "metadata": {},
   "outputs": [
    {
     "data": {
      "text/plain": [
       "0.07998750025326716"
      ]
     },
     "execution_count": 3,
     "metadata": {},
     "output_type": "execute_result"
    }
   ],
   "source": [
    "# Evaluamos en el punto crítico\n",
    "theta_mle = 55 / 100\n",
    "n = 100\n",
    "math.comb(n, 55) * (theta_mle ** 55) * ((1 - theta_mle) ** 45)"
   ]
  },
  {
   "cell_type": "markdown",
   "metadata": {},
   "source": [
    "Con esto concluimos que el único máximo es el que encontramos."
   ]
  },
  {
   "cell_type": "markdown",
   "metadata": {},
   "source": [
    "Veamos como luce la función de verosimilitud para casos como el de la moneda:"
   ]
  },
  {
   "cell_type": "code",
   "execution_count": 4,
   "metadata": {},
   "outputs": [],
   "source": [
    "# Importamos numpy\n",
    "import numpy as np\n",
    "# Importamos matplotlib.pyplot\n",
    "import matplotlib.pyplot as plt"
   ]
  },
  {
   "cell_type": "markdown",
   "metadata": {},
   "source": [
    "___\n",
    "\n",
    "(esto es un paréntesis para explicar funciones tipo lambda)"
   ]
  },
  {
   "cell_type": "code",
   "execution_count": 5,
   "metadata": {},
   "outputs": [],
   "source": [
    "def likelihood(theta, n, y):\n",
    "    return math.comb(n, y) * (theta ** y) * ((1 - theta) ** (n - y))"
   ]
  },
  {
   "cell_type": "code",
   "execution_count": 6,
   "metadata": {},
   "outputs": [],
   "source": [
    "likelihood_ = lambda theta, n, y: math.comb(n, y) * (theta ** y) * ((1 - theta) ** (n - y))"
   ]
  },
  {
   "cell_type": "code",
   "execution_count": 7,
   "metadata": {},
   "outputs": [
    {
     "data": {
      "text/plain": [
       "0.0008291190100736325"
      ]
     },
     "execution_count": 7,
     "metadata": {},
     "output_type": "execute_result"
    }
   ],
   "source": [
    "likelihood(0.4, 100, 55)"
   ]
  },
  {
   "cell_type": "code",
   "execution_count": 8,
   "metadata": {},
   "outputs": [
    {
     "data": {
      "text/plain": [
       "0.0008291190100736325"
      ]
     },
     "execution_count": 8,
     "metadata": {},
     "output_type": "execute_result"
    }
   ],
   "source": [
    "likelihood_(0.4, 100, 55)"
   ]
  },
  {
   "cell_type": "markdown",
   "metadata": {},
   "source": [
    "___"
   ]
  },
  {
   "cell_type": "code",
   "execution_count": 9,
   "metadata": {},
   "outputs": [],
   "source": [
    "# Calculamos la función de verosimilitud con los datos del ejemplo\n",
    "# Parámetros - 100 tiros - 55 caras\n",
    "n = 100\n",
    "a = 55\n",
    "# Función de verosimilitud\n",
    "verosimilitud = lambda theta: math.comb(n, a) * (theta ** a) * ((1 - theta) ** (n - a))"
   ]
  },
  {
   "cell_type": "markdown",
   "metadata": {},
   "source": [
    "___\n",
    "\n",
    "(esto es un paréntesis para explicar np.linspace)"
   ]
  },
  {
   "cell_type": "code",
   "execution_count": 10,
   "metadata": {},
   "outputs": [
    {
     "data": {
      "text/plain": [
       "array([0.   , 0.001, 0.002, ..., 0.998, 0.999, 1.   ])"
      ]
     },
     "execution_count": 10,
     "metadata": {},
     "output_type": "execute_result"
    }
   ],
   "source": [
    "np.linspace(0, 1, 1001)"
   ]
  },
  {
   "cell_type": "markdown",
   "metadata": {},
   "source": [
    "___"
   ]
  },
  {
   "cell_type": "code",
   "execution_count": 11,
   "metadata": {},
   "outputs": [
    {
     "data": {
      "text/plain": [
       "0.55"
      ]
     },
     "execution_count": 11,
     "metadata": {},
     "output_type": "execute_result"
    }
   ],
   "source": [
    "# Aproximamos el valor máximo de la verosimilitud\n",
    "theta = np.linspace(0, 1, 1001)\n",
    "verosimilitud_eval = verosimilitud(theta)\n",
    "\n",
    "theta[np.argmax(verosimilitud_eval)]"
   ]
  },
  {
   "cell_type": "code",
   "execution_count": 12,
   "metadata": {},
   "outputs": [
    {
     "data": {
      "text/plain": [
       "Text(0, 0.5, '$p(X=55|\\\\theta)$')"
      ]
     },
     "execution_count": 12,
     "metadata": {},
     "output_type": "execute_result"
    },
    {
     "data": {
      "image/png": "[encoded data removed]",
      "text/plain": [
       "<Figure size 640x480 with 1 Axes>"
      ]
     },
     "metadata": {},
     "output_type": "display_data"
    }
   ],
   "source": [
    "# Dibujamos la función de verosimilitud\n",
    "plt.plot(theta, verosimilitud_eval)\n",
    "plt.axvline(theta[np.argmax(verosimilitud_eval)], color='red', linestyle='--')\n",
    "plt.xlabel(r'$\\theta$')\n",
    "plt.ylabel(r'$p(X=55|\\theta)$')"
   ]
  },
  {
   "cell_type": "markdown",
   "metadata": {},
   "source": [
    "¿Qué pasaría en un caso de 1000 tiros con 550 caras?\n",
    "\n",
    "Veamos:"
   ]
  },
  {
   "cell_type": "code",
   "execution_count": 13,
   "metadata": {},
   "outputs": [],
   "source": [
    "# Calculamos la función de verosimilitud con los datos del ejemplo\n",
    "# Parámetros - 1000 tiros - 550 caras\n",
    "n = 1000\n",
    "a = 550\n",
    "# Función de verosimilitud\n",
    "verosimilitud = lambda theta: math.comb(n, a) * (theta ** a) * ((1 - theta) ** (n - a))"
   ]
  },
  {
   "cell_type": "code",
   "execution_count": 14,
   "metadata": {},
   "outputs": [
    {
     "data": {
      "text/plain": [
       "0.55"
      ]
     },
     "execution_count": 14,
     "metadata": {},
     "output_type": "execute_result"
    }
   ],
   "source": [
    "# Aproximamos el valor máximo de la verosimilitud\n",
    "theta = np.linspace(0, 1, 1001)\n",
    "verosimilitud_eval_1000 = verosimilitud(theta)\n",
    "\n",
    "theta[np.argmax(verosimilitud_eval)]"
   ]
  },
  {
   "cell_type": "code",
   "execution_count": 15,
   "metadata": {},
   "outputs": [
    {
     "data": {
      "text/plain": [
       "Text(0, 0.5, '$p(X=550|\\\\theta)$')"
      ]
     },
     "execution_count": 15,
     "metadata": {},
     "output_type": "execute_result"
    },
    {
     "data": {
      "image/png": "[encoded data removed]",
      "text/plain": [
       "<Figure size 640x480 with 2 Axes>"
      ]
     },
     "metadata": {},
     "output_type": "display_data"
    }
   ],
   "source": [
    "# Dibujamos las funcines de verosimilitud\n",
    "plt.subplot(2, 1, 1)\n",
    "plt.plot(theta, verosimilitud_eval)\n",
    "plt.axvline(theta[np.argmax(verosimilitud_eval)], color='red', linestyle='--')\n",
    "plt.xlabel(r'$\\theta$')\n",
    "plt.ylabel(r'$p(X=55|\\theta)$')\n",
    "\n",
    "plt.subplot(2, 1, 2)\n",
    "plt.plot(theta, verosimilitud_eval_1000)\n",
    "plt.axvline(theta[np.argmax(verosimilitud_eval_1000)], color='red', linestyle='--')\n",
    "plt.xlabel(r'$\\theta$')\n",
    "plt.ylabel(r'$p(X=550|\\theta)$')"
   ]
  },
  {
   "cell_type": "markdown",
   "metadata": {},
   "source": [
    "Aunque el MLE en ambos casos es el mismo, porque\n",
    "\n",
    "$$\n",
    "\\frac{550}{1000} = \\frac{55}{100},\n",
    "$$\n",
    "\n",
    "observamos que la dispersión de la función de verosimilitud al rededor del máximo en el caso de más tiros es menor.\n",
    "\n",
    "¿En cuál de los dos valores estimados $\\hat{\\theta}$ confías más?"
   ]
  },
  {
   "cell_type": "markdown",
   "metadata": {},
   "source": [
    "### 1.2. Log-verosimilitud\n",
    "\n",
    "Comúnmente hacemos la suposición de que los datos son independientes e idénticamente distribuidos (iid), lo cual trae la implicación que la función de verosimilitud sea un producto de las verosimilitudes individuales de los datos. Ahora, dado que estamos interesados en maximizar la verosimilitud, hay que tener en cuenta que maximizar productos de funciones puede tornarse bastante complejo.\n",
    "\n",
    "Es en este punto donde nos podemos dar cuenta que la función $\\log$ (logaritmo natural o logaritmo en base $e$) puede ser de gran ayuda, dado que convierte productos en sumas. El logaritmo de la función de verosimilitud se conoce como **log-verosimilitud**, y dado que $\\log(x)$ es una función creciente, el máximo de la verosimilitud y la log-verosimilitud se encuentran en el mismo punto.\n",
    "\n",
    "**Ejemplo.** Retomando el caso de la moneda, tenemos que la log-verosimilitud es:\n",
    "\n",
    "$$\n",
    "\\log p(55 | \\theta) = \\log \\left(\\left(\\begin{array}{c}100 \\\\ 55\\end{array}\\right)\\right) + 55 \\log \\theta + 45 \\log (1 - \\theta).\n",
    "$$\n",
    "\n",
    "Ahora, para maximizar la log-verosimilitud:\n",
    "\n",
    "<details>\n",
    "<summary>Descubrir</summary>\n",
    "\n",
    "$$\n",
    "\\frac{d}{d\\theta} \\log p(55 | \\theta) = \\frac{55}{\\theta} - \\frac{45}{1 - \\theta}\n",
    "$$\n",
    "\n",
    "Igualando a cero:\n",
    "\n",
    "$$\n",
    "\\begin{align} \\nonumber\n",
    "\\frac{55}{\\theta} - \\frac{45}{1 - \\theta} \\\\ \\nonumber\n",
    "55(1 - \\theta) = 45\\theta \\\\ \\nonumber\n",
    "55 = 100 \\theta\n",
    "\\end{align}\n",
    "$$\n",
    "\n",
    "Por lo que el MLE es $\\hat{\\theta} = \\frac{55}{100}$.\n",
    "</details>"
   ]
  },
  {
   "cell_type": "markdown",
   "metadata": {},
   "source": [
    "Veamos como luce la función de log-verosimilitud en este caso y comparémosla con la función de verosimilitud:"
   ]
  },
  {
   "cell_type": "code",
   "execution_count": 16,
   "metadata": {},
   "outputs": [],
   "source": [
    "# Calculamos la función de verosimilitud con los datos del ejemplo\n",
    "# Parámetros - 100 tiros - 55 caras\n",
    "n = 100\n",
    "a = 55\n",
    "# Función de verosimilitud\n",
    "verosimilitud = lambda theta: math.comb(n, a) * (theta ** a) * ((1 - theta) ** (n - a))\n",
    "# Función de log-verosimilitud\n",
    "log_verosimilitud = lambda theta: math.log(math.comb(n, a)) + a * np.log(theta) + (n - a) * np.log(1 - theta)"
   ]
  },
  {
   "cell_type": "code",
   "execution_count": 17,
   "metadata": {},
   "outputs": [
    {
     "name": "stderr",
     "output_type": "stream",
     "text": [
      "C:\\Users\\esjim\\AppData\\Local\\Temp\\ipykernel_14304\\107678844.py:8: RuntimeWarning: divide by zero encountered in log\n",
      "  log_verosimilitud = lambda theta: math.log(math.comb(n, a)) + a * np.log(theta) + (n - a) * np.log(1 - theta)\n"
     ]
    },
    {
     "data": {
      "text/plain": [
       "0.55"
      ]
     },
     "execution_count": 17,
     "metadata": {},
     "output_type": "execute_result"
    }
   ],
   "source": [
    "# Aproximamos el máximo de la log-verosimilitud\n",
    "theta = np.linspace(0, 1, 1001)\n",
    "log_verosimilitud_eval = log_verosimilitud(theta)\n",
    "\n",
    "theta[np.argmax(log_verosimilitud_eval)]"
   ]
  },
  {
   "cell_type": "code",
   "execution_count": 18,
   "metadata": {},
   "outputs": [
    {
     "data": {
      "text/plain": [
       "Text(0, 0.5, '$\\\\log p(X=550|\\\\theta)$')"
      ]
     },
     "execution_count": 18,
     "metadata": {},
     "output_type": "execute_result"
    },
    {
     "data": {
      "image/png": "[encoded data removed]",
      "text/plain": [
       "<Figure size 640x480 with 2 Axes>"
      ]
     },
     "metadata": {},
     "output_type": "display_data"
    }
   ],
   "source": [
    "# Dibujamos las funciones de log-verosimilitud y verosimilitud\n",
    "plt.subplot(2, 1, 1)\n",
    "plt.plot(theta, verosimilitud_eval)\n",
    "plt.axvline(theta[np.argmax(verosimilitud_eval)], color='red', linestyle='--')\n",
    "plt.xlabel(r'$\\theta$')\n",
    "plt.ylabel(r'$p(X=55|\\theta)$')\n",
    "\n",
    "plt.subplot(2, 1, 2)\n",
    "plt.plot(theta, log_verosimilitud_eval)\n",
    "plt.axvline(theta[np.argmax(verosimilitud_eval_1000)], color='red', linestyle='--')\n",
    "plt.xlabel(r'$\\theta$')\n",
    "plt.ylabel(r'$\\log p(X=550|\\theta)$')"
   ]
  },
  {
   "cell_type": "markdown",
   "metadata": {},
   "source": [
    "## 2. Máxima verosimilitud para distirbuciones continuas\n",
    "\n",
    "En el caso que acabamos de analizar teníamos una distribución discreta $\\text{Binomial}$, y obtuvimos la función de verosimilitud usando la pmf. Para distribuciones continuas, todo lo que vimos es completamente aplicable, solo que usaremos la pdf."
   ]
  },
  {
   "cell_type": "markdown",
   "metadata": {},
   "source": [
    "**Ejemplo.** Suponga que el tiempo de vida de los bombillos es modelado por una distribución exponencial con parámetro desconocido $\\lambda$. Probamos 5 bombillos, y observamos que tienen tiempos de vida de 2, 3, 1, 3, y 4 años, respectivamente. ¿Cuál es el MLE para $\\lambda$?\n",
    "\n",
    "<details>\n",
    "<summary>Descubrir</summary>\n",
    "\n",
    "En este caso, tenemos que la pdf que modela los tiempos de vida es:\n",
    "\n",
    "$$\n",
    "p(x | \\lambda) = \\lambda e^{-\\lambda x}.\n",
    "$$\n",
    "\n",
    "Asumiendo que los tiempos de vida para cada bombillo es independiente e idénticamente distribuido, tenemos que la densidad conjunta es:\n",
    "\n",
    "$$\n",
    "p(x_1, x_2, x_3, x_4, x_5 | \\lambda) = p(x_1 | \\lambda) p(x_2 | \\lambda) p(x_3 | \\lambda) p(x_4 | \\lambda) p(x_5 | \\lambda) = (\\lambda e^{-\\lambda x_1}) (\\lambda e^{-\\lambda x_2}) (\\lambda e^{-\\lambda x_3}) (\\lambda e^{-\\lambda x_4}) (\\lambda e^{-\\lambda x_5}) = \\lambda^5 e^{-\\lambda(x_1 + x_2 + x_3 + x_4 + x_5)}\n",
    "$$\n",
    "\n",
    "Ahora, viendo los datos como fijos, con $x_1=2$, $x_2=3$, $x_3=1$, $x_4=3$, y $x_5=4$, y $\\lambda$ como variable, obtenemos la función de verosimilitud:\n",
    "\n",
    "$$\n",
    "L(\\lambda) = p(2, 3, 1, 3, 4 | \\lambda) = \\lambda^5 e^{-13\\lambda},\n",
    "$$\n",
    "\n",
    "y la log-verosimilitud:\n",
    "\n",
    "$$\n",
    "\\log L(\\lambda) = 5 \\log \\lambda - 13 \\lambda.\n",
    "$$\n",
    "\n",
    "Finalmente, usamos cálculo para encontrar el MLE:\n",
    "\n",
    "$$\n",
    "\\frac{d}{d \\lambda} \\log L(\\lambda) = \\frac{5}{\\lambda} - 13\n",
    "$$\n",
    "\n",
    "Igualando a cero y despejando, obtenemos que el MLE es $\\hat{\\lambda} = \\frac{5}{13}$.\n",
    "</details>"
   ]
  },
  {
   "cell_type": "markdown",
   "metadata": {},
   "source": [
    "## 2. Parámetros de máxima verosimilitud en una distribución normal (tarea)\n",
    "\n",
    "En este caso tenemos:\n",
    "\n",
    "- Variable aleatoria $X \\sim \\mathcal{N}(\\mu, \\sigma^2)$.\n",
    "\n",
    "- $p(x | \\mu,\\sigma^2)=\\frac{1}{\\sqrt{2 \\pi \\sigma^2}} \\exp\\left(-\\frac{(x-\\mu)^2}{2\\sigma^2}\\right)$."
   ]
  },
  {
   "cell_type": "markdown",
   "metadata": {},
   "source": [
    "Suponemos que las observaciones\n",
    "\n",
    "$$\\mathcal{D} = \\{x_1, \\dots, x_N\\}$$\n",
    "\n",
    "son independientes e idénticamente distribuidas."
   ]
  },
  {
   "cell_type": "markdown",
   "metadata": {},
   "source": [
    "Mostrar que los estimadores de máxima verosimilitud de $\\mu$ y $\\sigma$ son:\n",
    "\n",
    "$$\\hat{\\mu}_{MLE} = \\frac{1}{N} \\sum_{j=1}^{N}x_j \\qquad \\text{y} \\qquad \\hat{\\sigma}_{MLE} = \\sqrt{\\frac{1}{N}\\sum_{j=1}^{N}(x_j-\\hat{\\mu}_{MLE})^2}.$$"
   ]
  },
  {
   "cell_type": "markdown",
   "metadata": {},
   "source": [
    "Numéricamente:"
   ]
  },
  {
   "cell_type": "code",
   "execution_count": 35,
   "metadata": {},
   "outputs": [],
   "source": [
    "from scipy import stats"
   ]
  },
  {
   "cell_type": "code",
   "execution_count": 36,
   "metadata": {},
   "outputs": [],
   "source": [
    "mu_real = 10\n",
    "sigma2_real = 4\n",
    "X = stats.norm(loc=mu_real, scale=np.sqrt(sigma2_real))"
   ]
  },
  {
   "cell_type": "code",
   "execution_count": 45,
   "metadata": {},
   "outputs": [
    {
     "data": {
      "text/plain": [
       "array([ 6.8431132 ,  8.94088674, 10.39483092, 11.26622551, 10.49979539,\n",
       "       10.42059361, 11.76950961, 11.25391592, 14.12011833,  9.18382796,\n",
       "        9.04301658, 11.82206686,  8.88795743, 10.75123334,  8.04444688,\n",
       "       10.57311133,  8.29954756, 12.08921532, 12.2909077 ,  9.45008458,\n",
       "       10.66496782,  8.56200187, 10.80226764, 10.69593289,  9.44946236,\n",
       "       11.07167988, 11.49819297,  5.76897279, 12.773582  ,  9.75527135,\n",
       "       11.43117555,  8.32541976, 10.82774924,  9.11821757,  9.66963056,\n",
       "        6.58315999, 10.06085682, 10.77268628,  8.29857879, 11.19115394,\n",
       "       10.48688086,  3.56036092, 11.11584473,  6.92989849, 10.70588943,\n",
       "        6.44073909,  9.97316071, 12.52887545,  7.14685819, 14.6877908 ,\n",
       "       12.36814872,  8.29769074, 10.41495436, 12.51026075,  7.82069202,\n",
       "       12.40119818, 10.66102798,  8.16135348, 11.01588126,  9.0533091 ,\n",
       "        8.79106521, 10.13902131, 13.37293854,  6.11971525,  4.29163194,\n",
       "       11.7813261 , 10.27172602, 11.40073261, 10.80107855,  8.86992978,\n",
       "       15.28853823,  9.83801308,  7.94223974, 12.39792791,  9.55696328,\n",
       "       12.83734164, 11.04550929,  8.12298282, 10.9418536 ,  8.97371064,\n",
       "        8.21914107,  8.58582054,  9.14568552,  9.14122956, 13.46255099,\n",
       "       12.64949834,  7.42868426, 10.1394156 ,  9.82970047,  9.40560364,\n",
       "        8.87200184, 10.54475968,  8.41133748, 13.28301173, 15.08127427,\n",
       "        5.82324451, 12.62343747,  9.30090492,  7.79673939,  6.80683983,\n",
       "       10.03782406, 12.80875546,  9.44055165, 11.28083731, 11.1300019 ,\n",
       "       10.93346851,  6.05322822, 13.15080979,  7.66877969,  9.01490232,\n",
       "        7.25206935, 11.20768236,  9.6022326 , 11.97131139,  9.2695259 ,\n",
       "       11.38244341, 11.24121571,  7.90142916, 11.5631182 ,  5.81979512,\n",
       "       11.57134734,  7.80408903,  7.2830465 , 11.35619112, 10.14656745,\n",
       "        8.68181251,  9.6246966 ,  9.1576688 ,  7.87494672,  9.0890982 ,\n",
       "        5.71627208, 10.0723121 , 11.21394893,  6.28506127,  8.30291876,\n",
       "       11.61416413, 10.48416593, 11.06813916, 10.23287297, 10.35069543,\n",
       "       11.72793768,  9.95613594, 10.96804819, 11.61205618,  7.76644922,\n",
       "       10.70175806,  7.51777819,  8.60765066, 11.21091104, 11.71144331,\n",
       "        7.41551024,  9.0070632 , 14.51873567, 10.89861248, 12.77381988,\n",
       "        8.70260812,  7.70590831, 12.06393525, 10.25846324, 11.47976194,\n",
       "       10.78112092,  7.03690032, 10.175777  ,  6.04119181, 12.21955196,\n",
       "       11.37280475, 12.01350404, 11.66912001, 12.07807618, 11.64612245,\n",
       "        7.12053253,  8.03614925, 12.38046835, 11.46365759,  7.50651107,\n",
       "       12.51620355, 10.49640441, 16.206429  , 11.68767055,  9.32006665,\n",
       "       10.34695237,  5.60309503, 10.25647109, 11.43155028, 10.5739555 ,\n",
       "       12.56443533,  9.78163925, 11.16631376, 10.00920996, 10.13155622,\n",
       "        9.17157875, 12.55729486,  6.61113953, 10.02645961,  9.70485708,\n",
       "        8.89270706,  8.95655678, 10.84302896,  9.01942003, 12.07383548,\n",
       "       12.52244565,  8.39200954,  9.8966103 ,  8.35105241, 11.53121095,\n",
       "        8.59201419,  9.03568375, 10.58164537, 10.29297193,  8.93912053,\n",
       "       12.00496915,  7.61194482, 11.57813081,  9.95134351, 12.40391735,\n",
       "        8.47459212, 10.50686032, 10.05085987, 11.67507566,  8.4169856 ,\n",
       "        8.98740323,  9.48764661, 11.05535283, 15.30558849,  6.77389596,\n",
       "       12.22187806, 10.89749814,  8.78692758, 11.60396058, 10.87224677,\n",
       "       10.38324173,  8.82191642,  8.79869282,  6.39673537,  8.80186796,\n",
       "        8.00942105, 10.3731922 , 10.38226655,  6.68699226,  8.43266364,\n",
       "        7.13385802,  8.66854166,  9.09315237,  9.88330466,  7.72726042,\n",
       "       10.34854   ,  8.26347088, 10.54314526, 11.26868674,  6.79465954,\n",
       "        8.82619903,  9.00976788, 10.78265231,  9.28775137,  9.68579568,\n",
       "        8.22119322,  7.90552389,  9.12830948, 10.55276599,  5.48384135,\n",
       "       10.95600159,  6.66632065,  8.17661356, 11.50733983,  9.43517242,\n",
       "       10.89276897,  8.26840606,  6.3778568 ,  9.01360522,  8.96352628,\n",
       "       10.03777864, 12.75595697,  7.76091933, 13.74552337, 11.32875321,\n",
       "        9.50137969,  9.91884481, 11.29863438, 10.94041168,  8.05656578,\n",
       "       10.42725525, 10.43161569,  9.51548779, 11.03136633, 10.13882237,\n",
       "        8.49651109,  9.55638071,  6.80698721, 10.53175901, 12.17221887,\n",
       "        9.3084631 ,  8.59729673,  7.84634753, 12.15312765,  9.26555697,\n",
       "       12.19169689, 10.83303493, 10.95904994, 12.81084596, 11.92284275,\n",
       "       10.38385792,  8.57679634,  9.36458683, 10.34974744,  8.38035272,\n",
       "        7.73485104,  7.96628353, 11.03656506, 10.56122265,  8.6085314 ,\n",
       "       10.28258889, 12.24369854,  9.05938178, 14.23212271,  8.10324531,\n",
       "       10.30314919,  8.92211134, 10.1356529 ,  8.460645  ,  9.65608189,\n",
       "       11.05992695, 11.68872521, 12.6802656 , 10.72899636,  9.21505525,\n",
       "       13.18021009,  5.70120555, 10.48359427,  8.83582835, 11.18355733,\n",
       "        8.03292907, 12.39654647,  7.37977428, 10.87379112,  8.39180399,\n",
       "       10.09311466,  9.49459763,  7.80428246,  9.71959188,  8.72821646,\n",
       "        4.45547717, 10.40466512,  7.70262651, 12.51980999,  6.70139273,\n",
       "        8.39106607,  7.9870654 ,  8.81096346, 13.03594318, 11.87300669,\n",
       "        8.16023645,  9.54129878,  9.74570387, 11.05292744,  7.64922807,\n",
       "        8.24855192,  6.82562048,  6.32977254,  5.52644828, 15.28861344,\n",
       "        9.43396583, 12.06103535, 10.96375875, 10.31323039,  9.31695182,\n",
       "        9.02191255,  9.54800504, 10.24071608,  8.98236701, 11.78864763,\n",
       "       10.73524602, 10.83850137,  9.32573901, 14.23895434,  9.4428417 ,\n",
       "       13.30090846,  8.47791484,  9.38527684,  9.54582786,  8.83166781,\n",
       "        8.21794512,  8.77686759, 14.73122963, 11.95464375, 11.21572337,\n",
       "       11.05935544, 10.09576524,  7.19850706, 11.05303457,  7.34327927,\n",
       "       11.60223374, 12.91784343,  9.83081244, 11.25053297, 12.56573659,\n",
       "        4.52383038,  8.49670674,  7.49765645, 10.66473774, 10.94698161,\n",
       "       11.91513751,  8.77717885,  8.65219724,  8.03791889, 10.84705093,\n",
       "        9.02026145,  6.25140444,  8.26542803, 12.3482961 , 10.16802746,\n",
       "       12.38961474,  9.37451839, 13.34648507,  9.46043043, 13.09970307,\n",
       "        8.95921815, 10.92214348,  6.53362929, 11.10898618,  9.39028681,\n",
       "       11.22754216,  8.58580882, 12.03611566,  6.93467608, 13.58177038,\n",
       "        9.85604085,  9.44698891, 11.13248789,  9.72378294, 10.17088494,\n",
       "       13.39967779,  9.82875828, 10.61034204, 10.80064444,  7.7746105 ,\n",
       "       12.09730902, 12.47652103, 13.97372431, 11.77597937, 10.58554143,\n",
       "        7.54057249, 12.84823274,  4.95107891, 10.94974461, 11.0147319 ,\n",
       "        9.1312648 ,  8.64172862, 14.25677164,  7.60907727, 11.5996866 ,\n",
       "        8.85413136, 11.96533093,  8.79594084,  8.42491115, 12.11612487,\n",
       "        9.51767258, 11.607137  ,  9.407678  , 13.2197884 ,  9.39804965,\n",
       "       11.0054831 , 12.18196216,  9.82324284,  8.68559347,  8.39443256,\n",
       "       11.41076223, 13.38724493,  8.00900237,  8.44575479,  7.16733361,\n",
       "        8.86847297,  9.64056941, 11.12157754, 10.53801989, 10.80475206,\n",
       "       10.90149296, 11.01273144, 10.46898425,  7.12665952, 15.33328797,\n",
       "        4.39800799, 10.91399465, 10.27946632,  8.33768479,  6.86953895,\n",
       "        8.76630232,  8.98133028,  6.60195896,  9.67762526, 11.91757253,\n",
       "        9.8402742 , 10.90351953, 12.43850302,  8.42936138,  8.3768426 ,\n",
       "       11.9165082 ,  9.06490255, 11.35039228, 12.97061757, 10.35202126,\n",
       "       11.83696066,  9.37580923, 10.44597843,  8.09011748, 10.22874908,\n",
       "        8.66879216,  8.42735213, 12.82778816, 11.13268875, 13.28209184,\n",
       "        8.64327138,  6.53686147,  8.6789602 , 10.31914859, 10.32304937,\n",
       "        9.83303364, 11.8001292 ,  9.30136538, 11.62394215, 10.03089949,\n",
       "       12.86434422, 10.05649235, 11.11383447, 12.57005806, 11.42249608,\n",
       "       10.47299535,  7.29903085, 10.74820699, 10.40343826, 10.62753535,\n",
       "       12.9788364 ,  8.01293416,  7.57123627,  8.8752487 ,  7.69346788,\n",
       "       13.21019849,  9.93053279,  6.46741735, 10.21650875, 11.53586988,\n",
       "        7.24508141,  7.63376797,  8.76823297, 10.91352983, 11.12190953,\n",
       "        8.32417412,  8.67724173, 10.78655129,  9.76067996,  9.27365253,\n",
       "        8.71158227, 11.55595985, 12.30298197,  9.39430022, 10.24127776,\n",
       "       11.45747565,  9.30786494,  9.80592342, 11.12983369,  7.63406825,\n",
       "        6.97739153,  8.22227193, 11.95577346, 14.03167136, 10.8371693 ,\n",
       "       10.3559554 ,  7.82938274,  5.99632418,  7.39435053,  8.46616394,\n",
       "       11.13296563, 12.57857014, 10.94568949, 10.5017825 ,  9.7498512 ,\n",
       "        9.7710191 ,  9.51597315, 12.78014944,  8.68175544,  9.37820485,\n",
       "        9.73663552,  9.48782687, 13.22583955,  8.63858285, 11.24137869,\n",
       "       12.22070252, 11.58379688, 10.80795487,  8.36897794, 13.31076895,\n",
       "       11.08344501, 11.53055515,  8.1024829 , 10.88742074, 14.5819883 ,\n",
       "       12.58064244,  7.65361485,  8.37707725,  8.13243189, 13.22773093,\n",
       "       10.59255521, 10.0706774 ,  7.51558119, 10.02262836,  7.94911068,\n",
       "        9.51801119,  9.4382033 , 10.73319446, 10.28624647,  9.64775049,\n",
       "       11.00603785,  9.69444991, 13.45525205, 11.5275629 ,  8.3348042 ,\n",
       "        9.25656913, 11.4917259 ,  6.18952426,  8.8894351 ,  6.46075159,\n",
       "        4.08601825, 10.62362703, 11.11448998,  8.98132725, 12.49858138,\n",
       "        9.41374158,  9.94487703, 11.25679231, 11.91707841, 10.61191624,\n",
       "       12.49927948, 11.10760622,  5.7249622 , 13.62643328,  8.22489133,\n",
       "       10.74460906, 13.435604  ,  9.67291766, 10.99842708,  6.99047403,\n",
       "       11.9543251 , 11.55775485,  6.3979406 ,  9.19394273, 10.62780441,\n",
       "       12.35398219, 14.23777394, 10.41780686, 11.57817339,  9.10976138,\n",
       "       11.18094277, 10.02452161, 10.96551284,  9.82649613, 11.72335295,\n",
       "        6.89759732, 13.79943354,  6.48049198,  6.38149841,  7.71966402,\n",
       "        8.43703463, 11.54434558,  9.28618702,  8.89958339,  9.16748049,\n",
       "        7.45847208,  6.21417925, 12.89896222,  8.88312243,  9.22316525,\n",
       "        7.05687443,  8.80791846,  9.99874029, 11.30995372,  9.59965579,\n",
       "        6.8104594 ,  7.01090536, 11.50349488,  8.95952432,  9.17120773,\n",
       "        8.65246774,  9.06295467,  6.9762999 ,  8.44671378, 11.61151036,\n",
       "       12.57504778, 10.97988924,  9.79100207, 10.50301347, 11.28914704,\n",
       "        9.05376685,  7.75729587,  9.25672982,  7.97674652,  6.86173949,\n",
       "       11.31048295, 11.65036463, 14.43530091, 13.80240159,  6.80780409,\n",
       "        7.55900679, 13.33484014, 10.20918455,  6.86016739, 12.4534273 ,\n",
       "       10.70861384,  8.24767172,  8.72720943,  9.369846  , 10.26604161,\n",
       "       11.63187107,  9.5688259 ,  8.73578967, 12.25169766,  8.62398571,\n",
       "       15.51671337, 11.8746529 , 10.02646284,  8.77668633, 11.26545572,\n",
       "       11.61452476,  9.2233747 ,  6.69393629, 12.50371603, 10.8940779 ,\n",
       "        8.85557021,  8.56613297,  6.31562553, 13.31273512, 13.28937389,\n",
       "        6.85586936,  9.02087901, 10.31057314,  8.67126013, 10.64260638,\n",
       "       10.10592076, 10.25772241, 11.52486085,  9.83672531,  6.51282657,\n",
       "        9.73193704,  9.23073707,  7.15466114, 12.99464637,  8.96783792,\n",
       "       13.86467798,  9.04445736,  8.40552432,  9.09326913,  9.93378216,\n",
       "       10.08658277, 11.92371701,  8.41706143, 12.16463547, 10.064831  ,\n",
       "        9.87300263, 10.91453867, 11.50244974,  8.11794149, 11.50623882,\n",
       "        9.11832957,  9.39342419,  6.10107939, 13.07514785,  7.15693707,\n",
       "        9.01288074, 11.14267283,  8.18413358,  6.52915419,  7.79288544,\n",
       "       11.38391427,  8.967529  ,  8.06526757,  7.85073608, 11.07279273,\n",
       "        9.54153015, 10.68001081,  7.57289644, 12.05545638, 10.41484396,\n",
       "        7.09704928, 12.75535049,  7.47859645, 11.2309069 , 12.09857368,\n",
       "        8.82990031,  8.79241639, 15.09639358, 12.53590046, 10.87822557,\n",
       "       12.53566353, 10.700141  ,  8.54968763, 12.41112791,  9.70946741,\n",
       "        9.285725  ,  6.40039789, 11.62277848, 11.76442467,  5.79524407,\n",
       "        8.03470276,  9.38415058,  7.84433103,  9.03701073, 13.95035122,\n",
       "        8.80006906, 12.38786411, 10.20868832, 10.92865191, 11.37292198,\n",
       "        9.38643328,  7.93067293, 11.41791023,  7.58293037,  9.3395658 ,\n",
       "       12.01636999, 11.59370928,  7.26582395, 11.98214367, 10.14628492,\n",
       "        7.73754005, 10.89563069, 11.54896007, 10.15339782,  6.35941028,\n",
       "        6.12244273,  9.86164495, 12.18337126, 10.22098685,  6.83605233,\n",
       "        6.51177383, 10.15695725, 12.75958648, 12.5962086 , 11.28544483,\n",
       "       10.56850296, 10.15639503, 13.32038144,  5.99508036, 10.6663308 ,\n",
       "        8.97742171, 12.22077595,  9.25975903, 12.19945788, 11.65821762,\n",
       "        8.37187712,  6.72404867, 12.10535587,  8.9054058 ,  6.39575017,\n",
       "       11.99587923,  8.51376642, 11.93928221,  7.99070892,  8.95244999,\n",
       "        9.24170519, 10.77228645, 12.95346027,  8.19201608,  9.39381465,\n",
       "       12.24654794, 11.4749631 , 10.8684982 , 12.12878274, 10.94653731,\n",
       "        5.59163191, 11.15138273, 13.29223436, 15.6278127 , 12.51879393,\n",
       "       11.83700736, 11.20878421, 15.78911104, 10.24832478,  8.92841224,\n",
       "       11.48365916, 12.99186705, 12.45817516,  9.37123136,  9.69050036,\n",
       "        6.62309192,  9.72322955,  9.38971261,  8.18577714, 12.43561128,\n",
       "       11.88542677,  9.51341085, 10.17280002, 12.65756716,  8.82445612,\n",
       "        9.76104245, 14.22355286,  7.4417388 ,  9.46668185, 10.33818956,\n",
       "       10.02945105, 11.08701051,  8.82364606, 11.1133506 , 10.95843452,\n",
       "       11.05609633,  9.18491488, 14.36212711,  9.27779439, 10.32906219,\n",
       "        7.40113626, 12.23175328,  6.78784724,  9.75511363, 13.33542804,\n",
       "       10.39504442, 13.64167319,  7.84742997, 12.37286795, 10.23467418,\n",
       "       14.78421075,  8.19153579, 10.6878114 , 13.2091442 , 14.21231982,\n",
       "        8.04763411,  5.09895207,  9.65273477,  9.41173081, 13.75941633,\n",
       "        6.72376193,  7.6603941 , 10.54628788, 10.46227195, 10.34661491,\n",
       "       13.2353268 , 11.25560915,  9.30323393, 13.01080756, 11.97454002,\n",
       "        8.59220173,  8.14926099,  9.37130052, 11.30469602, 11.52661697,\n",
       "        9.04929579,  9.86680023, 11.29268304,  9.39277292, 11.20636844,\n",
       "        7.55982248,  9.93764683,  7.52735856,  4.44295821, 10.29626453,\n",
       "       11.34927159, 10.71533024, 12.63709751,  8.25405175, 10.57006277,\n",
       "        8.35836284, 12.88985399, 10.68801424,  8.60709154, 10.13481012,\n",
       "       10.34476615, 13.59907961,  9.15109117, 13.36382144,  9.69073908,\n",
       "        9.31183142, 11.55743699,  9.49174257,  9.84866674, 12.75243994,\n",
       "        9.6329882 ,  9.6407058 ,  9.5973921 , 14.39427838, 10.86203625,\n",
       "        8.52426016, 11.9441345 , 10.57578194, 14.23541127, 10.58099195,\n",
       "        9.8891806 ,  9.50850615, 11.22980843, 11.09753638,  7.71882733,\n",
       "        6.85440461, 16.04793375, 11.92825565, 13.48141606,  6.37987662,\n",
       "       10.67354603, 13.11060254,  9.98011806,  8.19758489,  9.61339566,\n",
       "       12.64720443,  9.28760975, 12.34223394, 12.78159898, 10.52612936])"
      ]
     },
     "execution_count": 45,
     "metadata": {},
     "output_type": "execute_result"
    }
   ],
   "source": [
    "datos = X.rvs(size=1000)\n",
    "datos"
   ]
  },
  {
   "cell_type": "code",
   "execution_count": 46,
   "metadata": {},
   "outputs": [],
   "source": [
    "mu_mle = np.mean(datos)\n",
    "sigma2_mle = np.mean((datos - mu_mle)**2)"
   ]
  },
  {
   "cell_type": "code",
   "execution_count": 47,
   "metadata": {},
   "outputs": [
    {
     "data": {
      "text/plain": [
       "(10.027044150395712, 10)"
      ]
     },
     "execution_count": 47,
     "metadata": {},
     "output_type": "execute_result"
    }
   ],
   "source": [
    "mu_mle, mu_real"
   ]
  },
  {
   "cell_type": "code",
   "execution_count": 48,
   "metadata": {},
   "outputs": [
    {
     "data": {
      "text/plain": [
       "(4.240416479366957, 4)"
      ]
     },
     "execution_count": 48,
     "metadata": {},
     "output_type": "execute_result"
    }
   ],
   "source": [
    "sigma2_mle, sigma2_real"
   ]
  },
  {
   "cell_type": "markdown",
   "metadata": {},
   "source": [
    "## 3. Parámetros de máxima verosimilitud en una distribución de Laplace"
   ]
  },
  {
   "cell_type": "markdown",
   "metadata": {},
   "source": [
    "\n",
    "En este caso tenemos:\n",
    "\n",
    "- Variable aleatoria $X \\sim L(\\mu, b)$.\n",
    "\n",
    "- $p(x | \\mu,b)=\\frac{1}{2 b} \\exp\\left(-\\frac{|x-\\mu|}{b}\\right)$."
   ]
  },
  {
   "cell_type": "markdown",
   "metadata": {},
   "source": [
    "Suponemos que las observaciones\n",
    "\n",
    "$$\\mathcal{D} = \\{x_1, \\dots, x_N\\}$$\n",
    "\n",
    "son independientes e idénticamente distribuidas."
   ]
  },
  {
   "cell_type": "markdown",
   "metadata": {},
   "source": [
    "Mostrar que los estimadores de máxima verosimilitud de $\\mu$ y $b$ son:\n",
    "\n",
    "$$\\hat{\\mu}_{MLE} = \\text{mediana}(\\mathcal{D}) \\qquad \\text{y} \\qquad \\hat{b}_{MLE} = \\frac{1}{N}\\sum_{j=1}^{N}|x_j-\\hat{\\mu}_{MLE}|.$$"
   ]
  },
  {
   "cell_type": "markdown",
   "metadata": {},
   "source": [
    "Numéricamente:"
   ]
  },
  {
   "cell_type": "code",
   "execution_count": 54,
   "metadata": {},
   "outputs": [],
   "source": [
    "# Instanciamos una variable aletoaria de Laplace\n",
    "mu_real = 5\n",
    "b_real = 2\n",
    "X = stats.laplace(loc=mu_real, scale=b_real)"
   ]
  },
  {
   "cell_type": "code",
   "execution_count": 55,
   "metadata": {},
   "outputs": [],
   "source": [
    "# Generamos algunos datos iid\n",
    "datos = X.rvs(size=1000)"
   ]
  },
  {
   "cell_type": "code",
   "execution_count": 56,
   "metadata": {},
   "outputs": [],
   "source": [
    "# Estimadores de máxima verosimilitud\n",
    "mu_mle = np.median(datos)\n",
    "b_mle = np.mean(np.abs(datos - mu_mle))"
   ]
  },
  {
   "cell_type": "code",
   "execution_count": 57,
   "metadata": {},
   "outputs": [
    {
     "data": {
      "text/plain": [
       "(5.006177030105466, 5)"
      ]
     },
     "execution_count": 57,
     "metadata": {},
     "output_type": "execute_result"
    }
   ],
   "source": [
    "# Comparamos\n",
    "mu_mle, mu_real"
   ]
  },
  {
   "cell_type": "code",
   "execution_count": 58,
   "metadata": {},
   "outputs": [
    {
     "data": {
      "text/plain": [
       "(2.1298566511615418, 2)"
      ]
     },
     "execution_count": 58,
     "metadata": {},
     "output_type": "execute_result"
    }
   ],
   "source": [
    "b_mle, b_real"
   ]
  },
  {
   "cell_type": "markdown",
   "metadata": {},
   "source": [
    "## 4. Comentarios finales\n",
    "\n",
    "El principio de máxima verosimilitud es bastante poderoso, y además una técnica general para estimar los parámetros de un modelo probabilístico. \n",
    "\n",
    "### Overfitting\n",
    "\n",
    "Sin embargo, tiene un problema: **en caso de tener pocos datos de entrenamiento, podemos sobreajustar seriamente el modelo.**\n",
    "\n",
    "### Suposición básica\n",
    "\n",
    "El principio de máxima verosimilitud es bastante intuitivo: estimar los parámetros de manera que se maximice la probabilidad de los datos. Esto trae consigo la suposición subyacente de que los parámetros **son fijos**, de manera que la incertidumbre proviene de los datos."
   ]
  },
  {
   "cell_type": "markdown",
   "metadata": {},
   "source": [
    "<script>\n",
    "  $(document).ready(function(){\n",
    "    $('div.prompt').hide();\n",
    "    $('div.back-to-top').hide();\n",
    "    $('nav#menubar').hide();\n",
    "    $('.breadcrumb').hide();\n",
    "    $('.hidden-print').hide();\n",
    "  });\n",
    "</script>\n",
    "\n",
    "<footer id=\"attribution\" style=\"float:right; color:#808080; background:#fff;\">\n",
    "Created with Jupyter by Esteban Jiménez Rodríguez.\n",
    "</footer>"
   ]
  }
 ],
 "metadata": {
  "kernelspec": {
   "display_name": "mebo2024_v4",
   "language": "python",
   "name": "python3"
  },
  "language_info": {
   "codemirror_mode": {
    "name": "ipython",
    "version": 3
   },
   "file_extension": ".py",
   "mimetype": "text/x-python",
   "name": "python",
   "nbconvert_exporter": "python",
   "pygments_lexer": "ipython3",
   "version": "3.9.19"
  }
 },
 "nbformat": 4,
 "nbformat_minor": 4
}
