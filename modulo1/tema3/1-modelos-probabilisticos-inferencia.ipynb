{
 "cells": [
  {
   "cell_type": "markdown",
   "metadata": {},
   "source": [
    "# Modelos Probabilísticos e Inferencia\n",
    "\n",
    "![MP](https://d2r55xnwy6nx47.cloudfront.net/uploads/2020/07/Dice_2880x1620_Lede.jpg)\n",
    "\n",
    "> Habiendo visto las herramientas básicas de teoría de probabilidad, estamos listos para embarcarnos en el camino fascinante de la estadística.\n",
    "\n",
    "> De forma general, el objetivo de la estadística es hacer inferencias basados en datos. Podemos dividir este proceso en tres fases\n",
    "> - Recopilar datos.\n",
    "> - Describir datos.\n",
    "> - Analizar datos.\n",
    "\n",
    "> Finalmente, el resultado de este proceso puede o no culminar en un modelo.\n",
    "\n",
    "> ¿Porqué usar modelos probabilísticos?\n",
    "> - Cuando usamos datos, todas las conclusiones que saquemos de ellos son **inciertas**.\n",
    "> - Por tanto, en lugar de **ignorar la incertidumbre, la modelamos**.\n",
    "> - A través de estas ideas, obtenemos aplicaciones en Machine Learning.\n",
    "\n",
    "> **Objetivos:**\n",
    "> - Comprender qué es un modelo probabilístico, y estudiar ejemplos básicos.\n",
    "> - Llevar a cabo inferencias en modelos probabilísticos básicos.\n",
    "\n",
    "> **Referencias:**\n",
    "> \n",
    "> - Bayesian Reasoning and Machine Learning by David Barber. Cap. 1."
   ]
  },
  {
   "cell_type": "markdown",
   "metadata": {},
   "source": [
    "## 1. Modelos probabilísticos e inferencia\n",
    "\n",
    "El paradigma central del **razonamiento probabilístico** es, dada una situación, identificar un conjunto de variables relevantes $X_1, X_2, \\dots, X_N$ en el contexto de la situación y diseñar un **modelo probabilístico** que codifique las interacciones de estas variables, expresado a través de la distribución:\n",
    "\n",
    "$$\n",
    "p(X_1, X_2, \\dots, X_N | \\theta),\n",
    "$$\n",
    "\n",
    "donde el vector $\\theta \\in \\mathbb{R}^{n}$ representa los parámetros (opcionales) del modelo.\n",
    "\n",
    "Una vez definido el modelo, podemos usarlo para **razonar (hacer inferencia)** mediante la introducción de **evidencia** (variables conocidas), y después calcular las probabilidades sobre las variables de interés, dada dicha evidencia. Para esto usaremos todas las herramientas de teoría de probabilidad vistas en la clase anterior:\n",
    "\n",
    "- Marginalización,\n",
    "- Regla de la cadena,\n",
    "- Regla de Bayes."
   ]
  },
  {
   "cell_type": "markdown",
   "metadata": {},
   "source": [
    "## 2. Ejemplos"
   ]
  },
  {
   "cell_type": "markdown",
   "metadata": {},
   "source": [
    "### Ejemplo 1 (Ejemplo 1.2 - Bayesian Reasoning and Machine Learning by David Barber. Cap. 1.)\n",
    "\n",
    "Científicos encuentran que las personas que sufren de la enfermedad Kreuzfeld-Jacob (KJ) comen hamburguesas en su mayoría:\n",
    "\n",
    "$$\n",
    "p(H=1 | KJ=1) = 0.9\n",
    "$$\n",
    "\n",
    "Por otra parte, dicha enfermedad es ciertamente rara, pues al rededor de una en $100.000$ la sufren.\n",
    "\n",
    "A raiz de esto, nos planteamos varias preguntas:\n",
    "\n",
    "1. Suponiendo que el consumo de hamburguesas es algo bastante común, digamos $p(H=1) = 0.5$, ¿Cuál es la probabilidad que una persona que come hamburguesas tendrá la enfermedad KJ?\n",
    "\n",
    "2. Ahora, supongamos que en cierto lugar casi no se comen hamburguesas, digamos $p(H=1) = 0.001$, ¿Cuál es la probabilidad de que una persona que come hamburguesas sufra la enfermedad KJ?"
   ]
  },
  {
   "cell_type": "markdown",
   "metadata": {},
   "source": [
    "#### Solución\n",
    "\n",
    "\n",
    "1. Usando la regla de Bayes tenemos que:\n",
    "\n",
    "   <details>\n",
    "   <summary>Descubrir</summary>\n",
    "\n",
    "   $$\n",
    "   p(KJ=1 | H=1) = \\frac{p(H=1 | KJ=1) p(KJ=1)}{p(H=1)} = \\frac{0.9 \\times 10^{-5}}{0.5} = 1.8\\times10^{-5}\n",
    "   $$\n",
    "\n",
    "   </details>\n",
    "\n",
    "2. Similarmente, usando la regla de Bayes tenemos que:\n",
    "\n",
    "   <details>\n",
    "   <summary>Descubrir</summary>\n",
    "\n",
    "   $$\n",
    "   p(KJ=1 | H=1) = \\frac{p(H=1 | KJ=1) p(KJ=1)}{p(H=1)} = \\frac{0.9 \\times 10^{-5}}{10^{-3}} = 9\\times10^{-3}\n",
    "   $$\n",
    "   \n",
    "   </details>"
   ]
  },
  {
   "cell_type": "markdown",
   "metadata": {},
   "source": [
    "### Ejemplo 2 (Ejemplo 1.7 - Bayesian Reasoning and Machine Learning by David Barber. Cap. 1.)\n",
    "\n",
    "Una compuerta lógica XOR implementa la siguiente tabla de verdad:\n",
    "\n",
    "| A | B | A xor B |\n",
    "|---|---|---------|\n",
    "| 0 | 0 |    0    |\n",
    "| 0 | 1 |    1    |\n",
    "| 1 | 0 |    1    |\n",
    "| 1 | 1 |    0    |\n",
    "\n",
    "O en términos prácticos, es un **detector de diferencias**. \n",
    "\n",
    "Si razonamos acerca de una de las variables, A (o B), sabiendo que A xor B = 0, no podríamos decir nada en particular de una de ellas, ya que sería igualmente probable que fuera 1 o 0."
   ]
  },
  {
   "cell_type": "markdown",
   "metadata": {},
   "source": [
    "Ahora, consideramos una versión probabilística de esta función, que retorna $C=1$ de manera aleatoria dependiendo de sus entradas ($A$ y $B$), con las siguientes probabilidades:\n",
    "\n",
    "|  A  |  B  |  p(C=1/A,B)  |\n",
    "| --- | --- | ------------ |\n",
    "|  0  |  0  |      0.1     |\n",
    "|  0  |  1  |      0.99    |\n",
    "|  1  |  0  |      0.8     |\n",
    "|  1  |  1  |      0.25    |"
   ]
  },
  {
   "cell_type": "markdown",
   "metadata": {},
   "source": [
    "Suponiendo que $A$ y $B$ son independientes y que $p(A=1)=0.65$ y $p(B=1)=0.77$, ¿Cuál es la probabilidad de que $p(A=1|C=0)$?"
   ]
  },
  {
   "cell_type": "markdown",
   "metadata": {},
   "source": [
    "#### Solución\n",
    "\n",
    "<details>\n",
    "<summary>Descubrir</summary>\n",
    "Tenemos que:\n",
    "\n",
    "$$\n",
    "p(A=1|C=0) = \\frac{p(A=1, C=0)}{p(A=1,C=0) + p(A=0,C=0)}.\n",
    "$$\n",
    "\n",
    "Con esto\n",
    "\n",
    "\\begin{align}\n",
    "p(A=1, C=0) & = \\sum_{B} p(A=1,B,C=0) \\qquad \\text{(Marginalización)} \\\\\n",
    "            & = \\sum_{B} p(C=0|A=1,B)p(A=1, B) \\qquad \\text{(Regla de la cadena)} \\\\\n",
    "            & = \\sum_{B} p(C=0|A=1,B)p(A=1) p(B) \\qquad \\text{(Independencia)} \\\\\n",
    "            & = p(C=0|A=1,B=0) p(A=1) p(B=0) + p(C=0|A=1,B=1) p(A=1) p(B=1),\n",
    "\\end{align}\n",
    "\n",
    "y\n",
    "\n",
    "\\begin{align}\n",
    "p(A=0, C=0) & = \\sum_{B} p(A=0,B,C=0) \\qquad \\text{(Marginalización)} \\\\\n",
    "            & = \\sum_{B} p(C=0|A=0,B)p(A=0, B) \\qquad \\text{(Regla de la cadena)} \\\\\n",
    "            & = \\sum_{B} p(C=0|A=0,B)p(A=0) p(B) \\qquad \\text{(Independencia)} \\\\\n",
    "            & = p(C=0|A=0,B=0) p(A=0) p(B=0) + p(C=0|A=0,B=1) p(A=0) p(B=1)\n",
    "\\end{align}\n",
    "</details>"
   ]
  },
  {
   "cell_type": "markdown",
   "metadata": {},
   "source": [
    "<script>\n",
    "  $(document).ready(function(){\n",
    "    $('div.prompt').hide();\n",
    "    $('div.back-to-top').hide();\n",
    "    $('nav#menubar').hide();\n",
    "    $('.breadcrumb').hide();\n",
    "    $('.hidden-print').hide();\n",
    "  });\n",
    "</script>\n",
    "\n",
    "<footer id=\"attribution\" style=\"float:right; color:#808080; background:#fff;\">\n",
    "Created with Jupyter by Esteban Jiménez Rodríguez.\n",
    "</footer>"
   ]
  }
 ],
 "metadata": {
  "kernelspec": {
   "display_name": "Python 3 (ipykernel)",
   "language": "python",
   "name": "python3"
  },
  "language_info": {
   "codemirror_mode": {
    "name": "ipython",
    "version": 3
   },
   "file_extension": ".py",
   "mimetype": "text/x-python",
   "name": "python",
   "nbconvert_exporter": "python",
   "pygments_lexer": "ipython3",
   "version": "3.10.12"
  }
 },
 "nbformat": 4,
 "nbformat_minor": 4
}
